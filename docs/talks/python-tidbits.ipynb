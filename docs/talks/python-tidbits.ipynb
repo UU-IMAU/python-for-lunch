{
 "cells": [
  {
   "cell_type": "markdown",
   "metadata": {
    "vscode": {
     "languageId": "plaintext"
    }
   },
   "source": [
    "# Python Tidbits: Small Python tips, tricks, and packages you wish you knew about yesterday\n",
    "> by Nick Hodgskin\n",
    "\n",
    "\n",
    "\n"
   ]
  },
  {
   "cell_type": "markdown",
   "metadata": {
    "vscode": {
     "languageId": "plaintext"
    }
   },
   "source": [
    "## Native Python Tricks\n"
   ]
  },
  {
   "cell_type": "markdown",
   "metadata": {
    "vscode": {
     "languageId": "plaintext"
    }
   },
   "source": [
    "### f-strings"
   ]
  },
  {
   "cell_type": "code",
   "execution_count": null,
   "metadata": {},
   "outputs": [],
   "source": [
    "# String concatenation\n",
    "name = \"John\"\n",
    "age = 25\n",
    "print(\"Hello, \" + name + \"! You are \" + str(age) + \" years old.\")\n",
    "\n",
    "\n",
    "# Python 2: % syntax\n",
    "name = \"Alice\"\n",
    "age = 30\n",
    "greeting = \"Hello, %s! You are %d years old.\" % (name, age)\n",
    "print(greeting)\n",
    "\n",
    "# Python 3: .format() syntax\n",
    "name = \"Bob\"\n",
    "age = 25\n",
    "greeting = \"Hello, {}! You are {} years old.\".format(name, age)\n",
    "print(greeting)\n",
    "\n",
    "# Python 3.6+: f-strings (the best!)\n",
    "name = \"Charlie\"\n",
    "age = 28\n",
    "greeting = f\"Hello, {name}! You are {age} years old.\"\n",
    "print(greeting)"
   ]
  },
  {
   "cell_type": "code",
   "execution_count": null,
   "metadata": {},
   "outputs": [],
   "source": [
    "# Bonus: f-strings can evaluate expressions inline\n",
    "a = 5\n",
    "b = 10\n",
    "result = f\"The sum of {a} and {b} is {a + b}.\"\n",
    "print(result)\n",
    "\n",
    "\n",
    "def multiply(x, y):\n",
    "    return x * y\n",
    "\n",
    "a = 5\n",
    "b = 10\n",
    "result = f\"The product of {a} and {b} is {multiply(a, b)}.\"\n",
    "print(result)"
   ]
  },
  {
   "cell_type": "code",
   "execution_count": null,
   "metadata": {},
   "outputs": [],
   "source": [
    "# Bonus: f-strings support formatting options\n",
    "pi = 3.14159265\n",
    "formatted_pi = f\"Pi rounded to 2 decimal places: {pi:.2f}\"\n",
    "print(formatted_pi)\n",
    "\n",
    "radius = 6_371_000  # 6,371 km in meters\n",
    "circumference = 2 * pi * radius\n",
    "print(f\"Earth's circumference (4 decimal places): {circumference:.4e} meters\")\n",
    "print(f\"Earth's circumference (4 significant digits): {circumference:.4g} meters\")"
   ]
  },
  {
   "cell_type": "markdown",
   "metadata": {},
   "source": [
    "You can find out more about formatting options at [W3Schools: Python String Formatting](https://www.w3schools.com/python/python_string_formatting.asp).\n",
    "\n",
    "Quick reference of format specified (mentioned in the article):\n",
    "```\n",
    ":<\t\tLeft aligns the result (within the available space)\n",
    ":>\t\tRight aligns the result (within the available space)\n",
    ":^\t\tCenter aligns the result (within the available space)\n",
    ":=\t\tPlaces the sign to the left most position\n",
    ":+\t\tUse a plus sign to indicate if the result is positive or negative\n",
    ":-\t\tUse a minus sign for negative values only\n",
    ": \t\tUse a space to insert an extra space before positive numbers (and a minus sign before negative numbers)\n",
    ":,\t\tUse a comma as a thousand separator\n",
    ":_\t\tUse a underscore as a thousand separator\n",
    ":b\t\tBinary format\n",
    ":c\t\tConverts the value into the corresponding Unicode character\n",
    ":d\t\tDecimal format\n",
    ":e\t\tScientific format, with a lower case e\n",
    ":E\t\tScientific format, with an upper case E\n",
    ":f\t\tFix point number format\n",
    ":F\t\tFix point number format, in uppercase format (show inf and nan as INF and NAN)\n",
    ":g\t\tGeneral format\n",
    ":G\t\tGeneral format (using a upper case E for scientific notations)\n",
    ":o\t\tOctal format\n",
    ":x\t\tHex format, lower case\n",
    ":X\t\tHex format, upper case\n",
    ":n\t\tNumber format\n",
    ":%\t\tPercentage format\n",
    "```\n",
    "\n",
    "\n"
   ]
  },
  {
   "cell_type": "markdown",
   "metadata": {},
   "source": [
    "### enumerate and zip"
   ]
  },
  {
   "cell_type": "code",
   "execution_count": null,
   "metadata": {},
   "outputs": [],
   "source": [
    "# Use enumerate to loop over an iterable while keeping track of the index.\n",
    "\n",
    "# Without enumerate\n",
    "fruits = ['apple', 'banana', 'cherry']\n",
    "for i in range(len(fruits)):\n",
    "    print(i, fruits[i])\n",
    "\n",
    "# With enumerate\n",
    "for i, fruit in enumerate(fruits):\n",
    "    print(i, fruit)\n",
    "\n",
    "# Bonus: Start indexing at a custom number\n",
    "for i, fruit in enumerate(fruits, start=1):\n",
    "    print(i, fruit)"
   ]
  },
  {
   "cell_type": "code",
   "execution_count": null,
   "metadata": {},
   "outputs": [],
   "source": [
    "# under the hood\n",
    "print(enumerate(fruits))\n",
    "print(list(enumerate(fruits)))"
   ]
  },
  {
   "cell_type": "code",
   "execution_count": null,
   "metadata": {},
   "outputs": [],
   "source": [
    "# Use zip to loop over multiple iterables in parallel.\n",
    "\n",
    "# Without zip\n",
    "names = ['Alice', 'Bob', 'Charlie']\n",
    "scores = [85, 90, 95]\n",
    "for i in range(len(names)):\n",
    "    print(names[i], scores[i])\n",
    "\n",
    "# With zip\n",
    "for name, score in zip(names, scores):\n",
    "    print(name, score)"
   ]
  },
  {
   "cell_type": "code",
   "execution_count": null,
   "metadata": {},
   "outputs": [],
   "source": [
    "# Bonus: Unzipping\n",
    "pairs = list(zip(names, scores))\n",
    "print('pairs:', pairs)\n",
    "names_unzipped, scores_unzipped = zip(*pairs)\n",
    "print(\"names_unzipped:\", names_unzipped)\n",
    "print(\"scores_unzipped:\", scores_unzipped)"
   ]
  },
  {
   "cell_type": "markdown",
   "metadata": {},
   "source": [
    "### list comprehensions\n"
   ]
  },
  {
   "cell_type": "code",
   "execution_count": null,
   "metadata": {},
   "outputs": [],
   "source": [
    "numbers = [1, 2, 3, 4, 5]\n",
    "\n",
    "# Example 1: Basic list comprehension\n",
    "# Squaring numbers in a list\n",
    "\n",
    "# using a for loop\n",
    "squares = []\n",
    "for x in numbers:\n",
    "    squares.append(x**2)\n",
    "print(squares)\n",
    "\n",
    "# using a list comprehension\n",
    "squares = [x**2 for x in numbers]\n",
    "print(squares)\n"
   ]
  },
  {
   "cell_type": "code",
   "execution_count": null,
   "metadata": {},
   "outputs": [],
   "source": [
    "# Example 2: Using `if` to filter elements\n",
    "# Keeping only even numbers\n",
    "\n",
    "# Using a for loop\n",
    "evens = []\n",
    "for x in numbers:\n",
    "    if x % 2 == 0:\n",
    "        evens.append(x)\n",
    "print(evens)\n",
    "\n",
    "# list comprehension\n",
    "evens = [x for x in numbers if x % 2 == 0]\n",
    "print(evens)"
   ]
  },
  {
   "cell_type": "code",
   "execution_count": null,
   "metadata": {},
   "outputs": [],
   "source": [
    "# Example 3: Using `if` and `else` in a list comprehension\n",
    "# Replacing odd numbers with -1\n",
    "\n",
    "# Using a for loop\n",
    "processed = []\n",
    "for x in numbers:\n",
    "    if x % 2 == 0:\n",
    "        processed.append(x)\n",
    "    else:\n",
    "        processed.append(-1)\n",
    "print(processed)\n",
    "\n",
    "# list comprehension\n",
    "processed = [x if x % 2 == 0 else -1 for x in numbers]\n",
    "print(processed)"
   ]
  },
  {
   "cell_type": "code",
   "execution_count": null,
   "metadata": {},
   "outputs": [],
   "source": [
    "# Bonus: Filtering out negative values from data\n",
    "data = [3.2, -1.5, 0.0, 4.7, -2.3, 5.6]\n",
    "cleaned_data = [x for x in data if x >= 0]\n",
    "print(cleaned_data)"
   ]
  },
  {
   "cell_type": "markdown",
   "metadata": {
    "vscode": {
     "languageId": "plaintext"
    }
   },
   "source": [
    "### sets"
   ]
  },
  {
   "cell_type": "code",
   "execution_count": null,
   "metadata": {},
   "outputs": [],
   "source": [
    "# Creating a set\n",
    "unique_numbers = {1, 2, 3, 4, 5}\n",
    "print(unique_numbers)  # Output: {1, 2, 3, 4, 5}\n",
    "\n",
    "# Adding elements to a set\n",
    "unique_numbers.add(6)\n",
    "print(unique_numbers)  # Output: {1, 2, 3, 4, 5, 6}\n",
    "\n",
    "# Sets automatically handle duplicates\n",
    "unique_numbers.add(3)\n",
    "print(unique_numbers)  # Output: {1, 2, 3, 4, 5, 6} (no change)\n",
    "\n",
    "# Using sets to remove duplicates from a list\n",
    "data_with_duplicates = [5, 1, 2, 2, 3, 4, 4]\n",
    "unique_data = list(set(data_with_duplicates))\n",
    "print(unique_data)  # Output: [1, 2, 3, 4, 5] (note the order isn't preserved)"
   ]
  },
  {
   "cell_type": "code",
   "execution_count": null,
   "metadata": {},
   "outputs": [],
   "source": [
    "# Set operations\n",
    "\n",
    "# Define two sets\n",
    "set_a = {1, 2, 3, 4, 5}\n",
    "set_b = {4, 5, 6, 7, 8}\n",
    "print(\"A:\", set_a)\n",
    "print(\"B:\", set_b)\n",
    "\n",
    "# Union: Combine elements from both sets (no duplicates)\n",
    "union_set = set_a | set_b  # or set_a.union(set_b)\n",
    "print(\"Union (set_a | set_b):\", union_set)  # Output: {1, 2, 3, 4, 5, 6, 7, 8}\n",
    "\n",
    "# Difference: Elements in set_a but not in set_b\n",
    "difference_set = set_a - set_b  # or set_a.difference(set_b)\n",
    "print(\"Difference (set_a - set_b):\", difference_set)  # Output: {1, 2, 3}\n",
    "\n",
    "# Intersection: Elements common to both sets\n",
    "intersection_set = set_a & set_b  # or set_a.intersection(set_b)\n",
    "print(\"Intersection (set_a & set_b):\", intersection_set)  # Output: {4, 5}\n",
    "\n",
    "# Symmetric Difference: Elements in either set but not in both\n",
    "symmetric_diff_set = set_a ^ set_b  # or set_a.symmetric_difference(set_b)\n",
    "print(\"Symmetric Difference (set_a ^ set_b):\", symmetric_diff_set)  # Output: {1, 2, 3, 6, 7, 8}"
   ]
  },
  {
   "cell_type": "code",
   "execution_count": null,
   "metadata": {},
   "outputs": [],
   "source": [
    "# Practical example: Finding unique elements in two datasets\n",
    "data_1 = {10, 20, 30, 40, 50}\n",
    "data_2 = {30, 40, 50, 60, 70}\n",
    "\n",
    "# Unique elements in either dataset\n",
    "unique_elements = data_1 ^ data_2\n",
    "print(\"Unique elements in either dataset:\", unique_elements)  # Output: {10, 20, 60, 70}"
   ]
  },
  {
   "cell_type": "markdown",
   "metadata": {
    "vscode": {
     "languageId": "plaintext"
    }
   },
   "source": [
    "### getting help straight from Python (dir(), help(), locals())\n",
    "\n",
    "\n"
   ]
  },
  {
   "cell_type": "code",
   "execution_count": null,
   "metadata": {},
   "outputs": [],
   "source": [
    "# 1. Listing available methods and attributes with `dir()`\n",
    "my_list = [1, 2, 3]\n",
    "dir(my_list)  # Shows all methods and attributes of the list object"
   ]
  },
  {
   "cell_type": "code",
   "execution_count": null,
   "metadata": {},
   "outputs": [],
   "source": [
    "# 2. Getting detailed help with `help()`\n",
    "help(my_list.pop)  # Displays documentation for the `append` method"
   ]
  },
  {
   "cell_type": "code",
   "execution_count": null,
   "metadata": {},
   "outputs": [],
   "source": [
    "print(\"List before:\", my_list)\n",
    "popped = my_list.pop(0)\n",
    "print(\"List after:\", my_list)\n",
    "print(\"Popped item:\", popped)"
   ]
  },
  {
   "cell_type": "code",
   "execution_count": null,
   "metadata": {},
   "outputs": [],
   "source": [
    "\n",
    "# 3. Inspecting local variables with `locals()`\n",
    "def example_function():\n",
    "    x = 10\n",
    "    y = 20\n",
    "    print(locals())  # Shows all local variables in the current scope\n",
    "    # globals() would do the same but for global variables\n",
    "\n",
    "example_function()"
   ]
  },
  {
   "cell_type": "markdown",
   "metadata": {
    "vscode": {
     "languageId": "plaintext"
    }
   },
   "source": [
    "### advanced sorting using keys"
   ]
  },
  {
   "cell_type": "code",
   "execution_count": null,
   "metadata": {},
   "outputs": [],
   "source": [
    "# normal sorting\n",
    "lst = [2, 1, 3, 6, 5, 4]\n",
    "print(\"list (unsorted):\", lst)\n",
    "lst.sort()\n",
    "print(\"list (sorted):\", lst)"
   ]
  },
  {
   "cell_type": "code",
   "execution_count": null,
   "metadata": {},
   "outputs": [],
   "source": [
    "# Example: Sorting a list of tuples by the second element\n",
    "def return_second_element(x):\n",
    "    return x[1]\n",
    "data = [(1, 20), (3, 15), (2, 25), (4, 10)]\n",
    "print(\"data (unsorted):\", data)\n",
    "sorted_data = sorted(data, key=return_second_element)\n",
    "print(\"data (sorted by the second element):\", sorted_data)\n",
    "\n",
    "\n",
    "# ...using an inline lambda function\n",
    "data = [(1, 20), (3, 15), (2, 25), (4, 10)]\n",
    "print(\"data (unsorted):\", data)\n",
    "sorted_data = sorted(data, key=lambda x: x[1])\n",
    "print(\"data (sorted by the second element):\", sorted_data)"
   ]
  },
  {
   "cell_type": "code",
   "execution_count": null,
   "metadata": {},
   "outputs": [],
   "source": [
    "# Example: Sorting a list of dictionaries by a specific key\n",
    "data = [{'name': 'Alice', 'age': 25}, {'name': 'Bob', 'age': 20}, {'name': 'Charlie', 'age': 30}]\n",
    "print(\"data (unsorted):\", data)\n",
    "sorted_data = sorted(data, key=lambda x: x['age'])\n",
    "print(\"data (sorted by age):\", data)\n",
    "\n",
    "# Example: Sorting strings by their length\n",
    "words = ['apple', 'banana', 'kiwi', 'cherry']\n",
    "print(\"words (unsorted):\", words)\n",
    "sorted_words = sorted(words, key=len)\n",
    "print(\"words (sorted by length):\", sorted_words)\n",
    "sorted_words = sorted(words, key=len, reverse=True)\n",
    "print(\"words (sorted reverse by length):\", sorted_words)"
   ]
  },
  {
   "cell_type": "markdown",
   "metadata": {
    "vscode": {
     "languageId": "plaintext"
    }
   },
   "source": [
    "### filter and map\n",
    "*Filter and map aren't necessary to know - you can get away with for loops - but it's an alternative way of doing things that may be more readable/faster for your use case.*\n"
   ]
  },
  {
   "cell_type": "code",
   "execution_count": null,
   "metadata": {},
   "outputs": [],
   "source": [
    "# Example: Filter even numbers from a list\n",
    "numbers = [1, 2, 3, 4, 5, 6, 7, 8, 9, 10]\n",
    "\n",
    "# Using filter with a lambda function\n",
    "evens = filter(lambda x: x % 2 == 0, numbers)\n",
    "print(list(evens))  # note its `filter(function, iterable)`, and note that `filter` returns an iterator (not a list - hence the `list()` call)"
   ]
  },
  {
   "cell_type": "code",
   "execution_count": null,
   "metadata": {},
   "outputs": [],
   "source": [
    "# Example: Square all numbers in a list\n",
    "numbers = [1, 2, 3, 4, 5]\n",
    "\n",
    "# Using map with a lambda function\n",
    "squared = map(lambda x: x**2, numbers)\n",
    "print(list(squared))"
   ]
  },
  {
   "cell_type": "code",
   "execution_count": null,
   "metadata": {},
   "outputs": [],
   "source": [
    "# Example: Square only even numbers\n",
    "numbers = [1, 2, 3, 4, 5, 6, 7, 8, 9, 10]\n",
    "\n",
    "# Filter even numbers, then square them\n",
    "result = map(lambda x: x**2, filter(lambda x: x % 2 == 0, numbers))\n",
    "print(list(result))"
   ]
  },
  {
   "cell_type": "code",
   "execution_count": null,
   "metadata": {},
   "outputs": [],
   "source": [
    "# A more complex example: Converting Celsius to Fahrenheit\n",
    "\n",
    "# Raw data: Some values are invalid (None or outliers)\n",
    "data = [22.5, None, 18.3, 1000, 25.0, None, 19.8, 30.2, -999]\n",
    "\n",
    "# Step 1: Filter out invalid values (None and outliers)\n",
    "valid_data = filter(lambda x: x is not None and -50 <= x <= 50, data)\n",
    "\n",
    "# Step 2: Convert Celsius to Fahrenheit\n",
    "def c_to_f(celsius):\n",
    "    return celsius * 9/5 + 32\n",
    "\n",
    "fahrenheit_data = map(c_to_f, valid_data)\n",
    "\n",
    "# Step 3: Round to 2 decimal places\n",
    "rounded_data = map(lambda x: round(x, 2), fahrenheit_data)\n",
    "\n",
    "# Final result\n",
    "print(list(rounded_data))"
   ]
  },
  {
   "cell_type": "markdown",
   "metadata": {},
   "source": [
    "Why is this powerful?:\n",
    "\n",
    "- Readability: Each step is clearly separated and easy to understand.\n",
    "- Lazy Evaluation: filter and map process data on-demand, which is memory-efficient for large datasets.\n",
    "- Functional Style: Avoids mutable state and side effects, making the code more predictable."
   ]
  },
  {
   "cell_type": "markdown",
   "metadata": {
    "vscode": {
     "languageId": "plaintext"
    }
   },
   "source": [
    "## Python packages: Standard Library"
   ]
  },
  {
   "cell_type": "markdown",
   "metadata": {
    "vscode": {
     "languageId": "plaintext"
    }
   },
   "source": [
    "### pprint\n"
   ]
  },
  {
   "cell_type": "code",
   "execution_count": null,
   "metadata": {},
   "outputs": [],
   "source": [
    "# Example: A messy nested data structure\n",
    "data = [[{\n",
    "    \"experiment\": {\n",
    "        \"name\": \"North Atlantic\",\n",
    "        \"samples\": [\n",
    "            {\"id\": 1, \"temperature\": 298.15, \"results\": [0.1, 0.2, 0.3]},\n",
    "            {\"id\": 2, \"temperature\": 310.15, \"results\": [0.15, 0.25, 0.35]},\n",
    "        ],\n",
    "        \"metadata\": {\n",
    "            \"author\": \"Dr. Smith\",\n",
    "            \"date\": \"2023-10-01\",\n",
    "            \"tags\": [\"biophysics\", \"simulation\"],\n",
    "        },\n",
    "    }\n",
    "}]]\n",
    "\n",
    "# Standard print output (hard to read)\n",
    "print(data)\n"
   ]
  },
  {
   "cell_type": "code",
   "execution_count": null,
   "metadata": {},
   "outputs": [],
   "source": [
    "from pprint import pprint\n",
    "\n",
    "# Pretty-printed output (clean and readable)\n",
    "pprint(data)"
   ]
  },
  {
   "cell_type": "markdown",
   "metadata": {
    "vscode": {
     "languageId": "plaintext"
    }
   },
   "source": [
    "### pathlib\n",
    "See [pathlib docs](https://docs.python.org/3/library/pathlib.html) for more info."
   ]
  },
  {
   "cell_type": "code",
   "execution_count": null,
   "metadata": {},
   "outputs": [],
   "source": [
    "from pathlib import Path\n",
    "\n",
    "# Create a Path object\n",
    "data_dir = Path(\"data\")  # Represents a directory named \"data\"\n",
    "\n",
    "# Check if the directory exists\n",
    "if not data_dir.exists():\n",
    "    data_dir.mkdir()  # Create the directory if it doesn't exist\n",
    "\n",
    "# Create a file path\n",
    "data_file = data_dir / \"experiment_results.csv\"  # Use / to join paths\n",
    "\n",
    "# Write to the file\n",
    "data_file.write_text(\"Sample data\\n\")  # Write text to the file\n",
    "\n",
    "# Read from the file\n",
    "print(data_file.read_text())  # Read text from the file\n",
    "\n",
    "# Iterate over files in a directory\n",
    "for file in data_dir.glob(\"*.csv\"):  # Find all CSV files\n",
    "    print(f\"Found file: {file.name}\")\n",
    "\n",
    "print(\"if you want the full path:\", data_file.resolve())\n",
    "print(\"if you want the stem:\", data_file.stem)\n",
    "print(\"if you want the extension:\", data_file.suffix)\n"
   ]
  },
  {
   "cell_type": "code",
   "execution_count": null,
   "metadata": {},
   "outputs": [],
   "source": [
    "# Path objects can be passed to many functions from external libraries.\n",
    "# If they *need* a string, you can do\n",
    "print(str(data_file))"
   ]
  },
  {
   "cell_type": "code",
   "execution_count": null,
   "metadata": {},
   "outputs": [],
   "source": [
    "# let's look at what methods are available\n",
    "print(dir(Path)) # hmm, a bit difficult to read..."
   ]
  },
  {
   "cell_type": "code",
   "execution_count": null,
   "metadata": {},
   "outputs": [],
   "source": [
    "def is_public(name):\n",
    "    is_private = name.startswith(\"_\")\n",
    "    return not is_private\n",
    "\n",
    "list(filter(is_public, dir(Path)))\n",
    "\n",
    "# or\n",
    "[name for name in dir(Path) if is_public(name)]"
   ]
  },
  {
   "cell_type": "markdown",
   "metadata": {
    "vscode": {
     "languageId": "plaintext"
    }
   },
   "source": [
    "### datetime"
   ]
  },
  {
   "cell_type": "code",
   "execution_count": null,
   "metadata": {},
   "outputs": [],
   "source": [
    "from datetime import datetime, timedelta\n",
    "\n",
    "# 1. Parsing a string into a datetime object\n",
    "date_str = \"2023-10-15 14:30:00\"\n",
    "parsed_date = datetime.strptime(date_str, \"%Y-%m-%d %H:%M:%S\")\n",
    "print(f\"Parsed Date: {parsed_date} (object of type {type(parsed_date)})\")\n",
    "\n",
    "# 2. Formatting a datetime object into a string\n",
    "formatted_date = parsed_date.strftime(\"%A, %B %d, %Y at %I:%M %p\")\n",
    "print(f\"Formatted Date: {formatted_date} (object of type {type(formatted_date)})\")\n",
    "\n",
    "# 3. Calculating time differences\n",
    "future_date = parsed_date + timedelta(days=7, hours=3)\n",
    "time_diff = future_date - parsed_date\n",
    "print(f\"Time Difference: {time_diff} (object of type {type(time_diff)})\")\n",
    "\n",
    "# 4. Getting the current time\n",
    "now = datetime.now() # time in UTC\n",
    "print(f\"Current Time: {now}\")"
   ]
  },
  {
   "cell_type": "code",
   "execution_count": null,
   "metadata": {},
   "outputs": [],
   "source": [
    "# Bonus: Working with timezones (requires `pytz` or `zoneinfo` in Python 3.9+)\n",
    "from zoneinfo import ZoneInfo  # Python 3.9+\n",
    "ny_time = now.astimezone(ZoneInfo(\"America/New_York\"))\n",
    "print(f\"New York Time: {ny_time}\")"
   ]
  },
  {
   "cell_type": "markdown",
   "metadata": {},
   "source": [
    "### functools - tools to work with functions\n",
    "*Here we just cover `partial` and `cache`. See [docs](https://docs.python.org/3/library/functools.html) for more.*\n"
   ]
  },
  {
   "cell_type": "code",
   "execution_count": null,
   "metadata": {},
   "outputs": [],
   "source": [
    "import functools"
   ]
  },
  {
   "cell_type": "markdown",
   "metadata": {},
   "source": [
    "#### functools.partial\n",
    "- Simplifies repetitive function calls with fixed parameters (e.g., fitting curves, transformations).\n",
    "- Makes code cleaner and more reusable."
   ]
  },
  {
   "cell_type": "code",
   "execution_count": null,
   "metadata": {},
   "outputs": [],
   "source": [
    "help(functools.partial)"
   ]
  },
  {
   "cell_type": "code",
   "execution_count": null,
   "metadata": {},
   "outputs": [],
   "source": [
    "# Original function\n",
    "def power(base, exponent):\n",
    "    return base ** exponent\n",
    "\n",
    "# Create a new function with `base` fixed to 2\n",
    "square = functools.partial(power, exponent=2)\n",
    "cube = functools.partial(power, exponent=3)\n",
    "\n",
    "print(square(5))  # 25\n",
    "print(cube(3))    # 27"
   ]
  },
  {
   "cell_type": "markdown",
   "metadata": {},
   "source": [
    "#### functools.lru_cache\n",
    "- Speeds up recursive or repetitive computations (e.g., dynamic programming, simulations)\n",
    "- Reduces redundant calculations in expensive functions\n",
    "- Should only be used on functions that are deterministic and idempotent (i.e., no side effects)"
   ]
  },
  {
   "cell_type": "code",
   "execution_count": null,
   "metadata": {},
   "outputs": [],
   "source": [
    "help(functools.lru_cache)"
   ]
  },
  {
   "cell_type": "code",
   "execution_count": null,
   "metadata": {},
   "outputs": [],
   "source": [
    "from time import time, sleep\n",
    "\n",
    "@functools.lru_cache(maxsize=None)\n",
    "def some_long_running_function(a, b):\n",
    "    sleep(2)  # Simulate a long computation\n",
    "    return a + b\n",
    "\n",
    "print(\"first call with 1, 2:\", some_long_running_function(1, 2))  # Takes 2 seconds"
   ]
  },
  {
   "cell_type": "code",
   "execution_count": null,
   "metadata": {},
   "outputs": [],
   "source": [
    "print(\"second call with 1, 2:\", some_long_running_function(1, 2))  # Returns immediately"
   ]
  },
  {
   "cell_type": "code",
   "execution_count": null,
   "metadata": {},
   "outputs": [],
   "source": [
    "print(\"second call with 2, 4:\", some_long_running_function(2, 4))  # takes 2 seconds\n"
   ]
  },
  {
   "cell_type": "code",
   "execution_count": null,
   "metadata": {},
   "outputs": [],
   "source": [
    "# A more real-world example\n",
    "def fibonacci(n):\n",
    "    \"\"\"Inefficient recursive function to compute Fibonacci number.\n",
    "    \n",
    "    fibonacci(5) calls fibonacci(4) and fibonacci(3), but fibonacci(4) also calls fibonacci(3).\n",
    "    This leads to an exponential number of function calls (2^(n-1) calls to be precise).\n",
    "    \"\"\"\n",
    "    if n < 2:\n",
    "        return n\n",
    "    return fibonacci(n - 1) + fibonacci(n - 2)\n",
    "\n",
    "n = 40\n",
    "t = time()\n",
    "fib = fibonacci(n)\n",
    "print(f\"Time taken: {time() - t:.2f} seconds\")\n",
    "print(f\"Fibonacci({n}): {fib}\")\n",
    "print(f\"Number of function calls: {2**(n-1)}\")"
   ]
  },
  {
   "cell_type": "code",
   "execution_count": null,
   "metadata": {},
   "outputs": [],
   "source": [
    "\n",
    "@functools.lru_cache(maxsize=None)  # Cache all results (maxsize default is 128)\n",
    "def fibonacci(n):\n",
    "    if n < 2:\n",
    "        return n\n",
    "    return fibonacci(n - 1) + fibonacci(n - 2)\n",
    "\n",
    "n = 40\n",
    "t = time()\n",
    "fib = fibonacci(n)\n",
    "print(f\"Time taken: {time() - t:.2f} seconds\")\n",
    "print(f\"Fibonacci({n}): {fib}\")\n"
   ]
  },
  {
   "cell_type": "markdown",
   "metadata": {},
   "source": [
    "#### functools.reduce"
   ]
  },
  {
   "cell_type": "code",
   "execution_count": null,
   "metadata": {},
   "outputs": [],
   "source": [
    "help(functools.reduce)"
   ]
  },
  {
   "cell_type": "code",
   "execution_count": null,
   "metadata": {},
   "outputs": [],
   "source": [
    "# Multiply all numbers in a list\n",
    "numbers = [1, 2, 3, 4, 5]\n",
    "product = functools.reduce(lambda x, y: x * y, numbers)\n",
    "\n",
    "print(product)"
   ]
  },
  {
   "cell_type": "code",
   "execution_count": null,
   "metadata": {},
   "outputs": [],
   "source": [
    "# interested in other functools stuff? You can Google the public API for usecases...\n",
    "[name for name in dir(functools) if is_public(name)]"
   ]
  },
  {
   "cell_type": "markdown",
   "metadata": {
    "vscode": {
     "languageId": "plaintext"
    }
   },
   "source": [
    "### itertools - tools to work with iterators\n",
    "*See [docs](https://docs.python.org/3/library/itertools.html) for more.*\n",
    "\n",
    "What is an iterator?:\n",
    "> An iterator is an object that contains a countable number of values.\n",
    "\n",
    "In Python, an iterator is an object which implements the iterator protocol (i.e., it tells Python how to get from the current value to the next value). Iterators allow for efficient looping and processing of large datasets. "
   ]
  },
  {
   "cell_type": "code",
   "execution_count": null,
   "metadata": {},
   "outputs": [],
   "source": [
    "import itertools"
   ]
  },
  {
   "cell_type": "markdown",
   "metadata": {},
   "source": [
    "#### itertools.chain\n",
    "Use chain to seamlessly combine multiple iterables into a single iterator."
   ]
  },
  {
   "cell_type": "code",
   "execution_count": null,
   "metadata": {},
   "outputs": [],
   "source": [
    "list1 = [1, 2, 3]\n",
    "list2 = ['a', 'b', 'c']\n",
    "combined = itertools.chain(list1, list2)\n",
    "\n",
    "print(list(combined))  # Output: [1, 2, 3, 'a', 'b', 'c']"
   ]
  },
  {
   "cell_type": "markdown",
   "metadata": {},
   "source": [
    "#### itertools.product – Cartesian Product\n",
    "Generate all possible combinations (Cartesian product) of input iterables."
   ]
  },
  {
   "cell_type": "code",
   "execution_count": null,
   "metadata": {},
   "outputs": [],
   "source": [
    "colors = ['red', 'green']\n",
    "sizes = ['S', 'M', 'L']\n",
    "\n",
    "combinations = itertools.product(colors, sizes)\n",
    "print(list(combinations))"
   ]
  },
  {
   "cell_type": "markdown",
   "metadata": {},
   "source": [
    "#### itertools.combinations – Generate Combinations\n",
    "Generate all possible combinations of a specific length from an iterable."
   ]
  },
  {
   "cell_type": "code",
   "execution_count": null,
   "metadata": {},
   "outputs": [],
   "source": [
    "data = ['a', 'b', 'c']\n",
    "combinations = itertools.combinations(data, 2)\n",
    "\n",
    "print(list(combinations))"
   ]
  },
  {
   "cell_type": "markdown",
   "metadata": {},
   "source": [
    "#### itertools.permutations - Generate Permutations\n",
    "Generate all possible permutations of an iterable."
   ]
  },
  {
   "cell_type": "code",
   "execution_count": null,
   "metadata": {},
   "outputs": [],
   "source": [
    "data = ['a', 'b', 'c']\n",
    "perms = itertools.permutations(data)\n",
    "\n",
    "print(list(perms))"
   ]
  },
  {
   "cell_type": "markdown",
   "metadata": {},
   "source": [
    "#### itertools.islice – Slice Iterators\n",
    "Slice an iterator without converting it to a list first."
   ]
  },
  {
   "cell_type": "code",
   "execution_count": null,
   "metadata": {},
   "outputs": [],
   "source": [
    "data = range(10)\n",
    "sliced = itertools.islice(data, 2, 6)  # Start at index 2, end at index 6\n",
    "\n",
    "print(list(sliced))"
   ]
  },
  {
   "cell_type": "markdown",
   "metadata": {},
   "source": [
    "#### itertools.groupby – Group Data"
   ]
  },
  {
   "cell_type": "code",
   "execution_count": null,
   "metadata": {},
   "outputs": [],
   "source": [
    "data = [('a', 1), ('a', 2), ('b', 3), ('b', 4), ('c', 5)]\n",
    "grouped = itertools.groupby(data, key=lambda x: x[0])\n",
    "\n",
    "for key, group in grouped:\n",
    "    print(key, list(group))"
   ]
  },
  {
   "cell_type": "markdown",
   "metadata": {},
   "source": [
    "#### itertools.cycle – Infinite Cycling\n",
    "Cycle through an iterable indefinitely."
   ]
  },
  {
   "cell_type": "code",
   "execution_count": null,
   "metadata": {},
   "outputs": [],
   "source": [
    "import itertools\n",
    "\n",
    "colors = ['red', 'green', 'blue']\n",
    "cycled = itertools.cycle(colors)\n",
    "\n",
    "for _ in range(5):\n",
    "    print(next(cycled))"
   ]
  },
  {
   "cell_type": "markdown",
   "metadata": {},
   "source": [
    "#### itertools.tee – Duplicate an Iterator\n",
    "Split an iterator into multiple independent iterators."
   ]
  },
  {
   "cell_type": "code",
   "execution_count": null,
   "metadata": {},
   "outputs": [],
   "source": [
    "import itertools\n",
    "\n",
    "data = iter(range(5))\n",
    "iter1, iter2 = itertools.tee(data, 2)\n",
    "\n",
    "print(list(iter1))\n",
    "print(list(iter2))"
   ]
  },
  {
   "cell_type": "markdown",
   "metadata": {},
   "source": [
    "#### more itertools"
   ]
  },
  {
   "cell_type": "code",
   "execution_count": null,
   "metadata": {},
   "outputs": [],
   "source": [
    "[name for name in dir(itertools) if is_public(name)]"
   ]
  },
  {
   "cell_type": "markdown",
   "metadata": {},
   "source": [
    "## Python packages: 3rd Party\n"
   ]
  },
  {
   "cell_type": "markdown",
   "metadata": {
    "vscode": {
     "languageId": "plaintext"
    }
   },
   "source": [
    "### tqdm\n",
    "\n",
    "After installing it using `conda install tqdm` or `pip install tqdm`..."
   ]
  },
  {
   "cell_type": "code",
   "execution_count": null,
   "metadata": {},
   "outputs": [],
   "source": [
    "from tqdm import tqdm\n",
    "\n",
    "def run_calculations():\n",
    "    sleep(0.1)  # Simulate a long computation\n",
    "\n",
    "for _ in tqdm(range(100)):\n",
    "    run_calculations()"
   ]
  },
  {
   "cell_type": "code",
   "execution_count": null,
   "metadata": {},
   "outputs": [],
   "source": [
    "# Bonus tip!: Use `_` when assigning variables you don't care about. Good for for loops and unpacking.\n",
    "# Example 1: Unpacking values\n",
    "data = (1, 2, 3)\n",
    "_, y, _ = data\n",
    "print(y)"
   ]
  },
  {
   "cell_type": "markdown",
   "metadata": {},
   "source": [
    "## Topics not discussed, and further reading\n",
    "\n",
    "Things not mentioned in this talk:\n",
    "- Testing (using Pytest)\n",
    "  - this is quite a large topic and could be a talk in itself\n",
    "- Jupyter Notebook tips and tricks (+using markdown)\n",
    "  - this is quite a large topic and could be a talk in itself\n",
    "- logging\n",
    "  - this is a topic that could form part of a talk in itself\n",
    "\n",
    "\n",
    "Check out the rest of the Python standard library for more interesting packages!\n",
    "- [Python | The Python Standard Library](https://docs.python.org/3/library/index.html)\n",
    "- [Python | Brief tour of the standard library](https://docs.python.org/3/tutorial/stdlib.html)\n"
   ]
  }
 ],
 "metadata": {
  "kernelspec": {
   "display_name": "base",
   "language": "python",
   "name": "python3"
  },
  "language_info": {
   "codemirror_mode": {
    "name": "ipython",
    "version": 3
   },
   "file_extension": ".py",
   "mimetype": "text/x-python",
   "name": "python",
   "nbconvert_exporter": "python",
   "pygments_lexer": "ipython3",
   "version": "3.12.7"
  }
 },
 "nbformat": 4,
 "nbformat_minor": 2
}
