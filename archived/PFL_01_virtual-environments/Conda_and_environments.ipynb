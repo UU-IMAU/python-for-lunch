{
 "cells": [
  {
   "cell_type": "markdown",
   "metadata": {},
   "source": [
    "# Conda package managment system"
   ]
  },
  {
   "cell_type": "markdown",
   "metadata": {},
   "source": [
    "Conda is an open source package management system and environment management system that runs on Windows, macOS and Linux. Conda quickly installs, runs and updates packages and their dependencies.\n",
    "\n",
    "It is bundled with two principal distributions:\n",
    "\n",
    "### Miniconda\n",
    "\n",
    "Free minimal installer, it includes conda, Python, their dependencies on and a few others. __(~ 400 MB)__\n",
    "\n",
    "https://conda.io/miniconda.html\n",
    "\n",
    "### Anaconda\n",
    "\n",
    "It includes conda, Python and 100+ scientific packages and their dependencies. __(~ 3 GB)__\n",
    "\n",
    "https://www.anaconda.com/download/#macos"
   ]
  },
  {
   "cell_type": "markdown",
   "metadata": {},
   "source": [
    "## How to install packages\n",
    "\n",
    "Open a terminal and type\n",
    "\n",
    "> __conda install packagename__"
   ]
  },
  {
   "cell_type": "markdown",
   "metadata": {},
   "source": [
    "### Installing and channels\n",
    "\n",
    "Anaconda also maintains a separate channel of packages, which is the default one.\n",
    "\n",
    "It might happen that the package you need is not on the default channel. You can install it from another channel , specifying it every time you install a package:\n",
    "\n",
    "> __conda install -c channel-name packagename__\n",
    "\n",
    "If you find yourself using the same channel often, then you might want to add it to your configuration.\n",
    "\n",
    "> __conda config --append channels channel-name__\n",
    "\n",
    "One of the most common channels is __conda_forge__.\n"
   ]
  },
  {
   "cell_type": "markdown",
   "metadata": {},
   "source": [
    "## Conda on clusters\n",
    "\n",
    "### Cartesius\n",
    "\n",
    "\n",
    "> __module load eb__\n",
    "\n",
    "> __module load Miniconda3__\n",
    "\n",
    "\n",
    "### Gemini and Hopf\n",
    "\n",
    "... people are working on it ..."
   ]
  },
  {
   "cell_type": "markdown",
   "metadata": {},
   "source": [
    "# What is a conda environment and why you want to use it\n",
    "\n",
    "A folder or directory that __contains a specific collection of conda packages__ and their dependencies, so they can be maintained and __run separately without interference__ from each other. \n",
    "\n",
    "Why conda environments are so convenient:\n",
    "\n",
    "- you want to share some code and __make everyone able to use it__\n",
    "\n",
    "\n",
    "- you want to share some code with the future self and __make yourself able to use it__\n",
    "\n",
    "\n",
    "- you want to use your code on a __different machine__\n",
    "\n",
    "\n",
    "- you are very fond of a package which exists only for a __specific version of python__\n",
    "\n",
    "\n",
    "- you __don't__ want to __mess up with your system__ python"
   ]
  },
  {
   "cell_type": "markdown",
   "metadata": {},
   "source": [
    "## Basic commands for environments\n",
    "\n",
    "- Create new environment, with a specific version of python (it will use the base (Ana)conda python otherwise)\n",
    "\n",
    "> __conda create --name myenv__\n",
    "\n",
    "- ... with a specific version of python\n",
    "\n",
    "> __conda create -n myenv python=2.7__\n",
    "\n",
    "- Activate and deactivate environments (on Windows you omit \"source\")\n",
    "\n",
    "> __source activate myenv__\n",
    "\n",
    "\n",
    "> __source deactivate__\n",
    "\n",
    "- View a list of your environments\n",
    "\n",
    "> __conda env list__\n",
    "\n",
    "- Install packages in the environment from the root environment\n",
    "\n",
    "> __conda install -n myenv scipy=0.15.0__\n",
    "\n",
    "- or from the environment after having activated it\n",
    "\n",
    "> __conda install scipy=0.15.0__\n",
    "\n",
    "- locate the directory for the conda environment (on Windows omit `echo`) \n",
    "\n",
    "> __echo $CONDA_PREFIX__\n"
   ]
  },
  {
   "cell_type": "markdown",
   "metadata": {},
   "source": [
    "## Jupyter notebook in conda environments\n",
    "\n",
    "- Install jupyter in your environment\n",
    "\n",
    "> __conda install jupyter__\n",
    "\n",
    "- Install nb_conda in your environment\n",
    "\n",
    "> __conda install nb_conda__"
   ]
  },
  {
   "cell_type": "markdown",
   "metadata": {},
   "source": [
    "## Play with your environments"
   ]
  },
  {
   "cell_type": "markdown",
   "metadata": {},
   "source": [
    "## Clone environments\n",
    "\n",
    "- You may want to clone your environment\n",
    "\n",
    "> __conda create --name myclone --clone myenv__\n",
    "\n",
    "- or export it (to use it on another machine)\n",
    "\n",
    "> __conda env export > myenv.yml__\n",
    "\n",
    "- Once you have the _yml_ file you can copy it to the desired machine and recreate there your environment\n",
    "\n",
    "> __conda env create -f myenv.yml__\n",
    "\n",
    "- Cross-platform\n",
    "\n",
    "> __conda env export --no-builds > myenv.yml__"
   ]
  },
  {
   "cell_type": "markdown",
   "metadata": {},
   "source": [
    "# What if something goes wrong\n",
    "\n",
    "- Remove packages\n",
    "\n",
    "> __conda remove packagename__\n",
    "\n",
    "- Backup of previous states of your environment\n",
    "\n",
    "> __conda list --revisions__\n",
    "\n",
    "> __conda install --revision N__\n",
    "\n",
    "The whole history of your environment is saved in the file\n",
    "\n",
    "`<environment-path>/conda-meta/history`\n",
    "\n",
    "- Delete environment\n",
    "\n",
    "> __conda remove --name myenv --all__"
   ]
  },
  {
   "cell_type": "markdown",
   "metadata": {},
   "source": [
    "# More information at\n",
    "\n",
    "https://conda.io/docs/"
   ]
  }
 ],
 "metadata": {
  "kernelspec": {
   "display_name": "Python [conda env:python_3]",
   "language": "python",
   "name": "conda-env-python_3-py"
  },
  "language_info": {
   "codemirror_mode": {
    "name": "ipython",
    "version": 3
   },
   "file_extension": ".py",
   "mimetype": "text/x-python",
   "name": "python",
   "nbconvert_exporter": "python",
   "pygments_lexer": "ipython3",
   "version": "3.6.7"
  }
 },
 "nbformat": 4,
 "nbformat_minor": 2
}
