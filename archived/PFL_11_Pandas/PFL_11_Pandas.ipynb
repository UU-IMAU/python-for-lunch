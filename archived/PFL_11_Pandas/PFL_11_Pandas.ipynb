{
 "cells": [
  {
   "cell_type": "markdown",
   "metadata": {},
   "source": [
    "## Python for lunch 15 may"
   ]
  },
  {
   "cell_type": "markdown",
   "metadata": {},
   "source": [
    "# Pandas"
   ]
  },
  {
   "cell_type": "code",
   "execution_count": 1,
   "metadata": {},
   "outputs": [],
   "source": [
    "import pandas as pd\n",
    "import numpy as np\n",
    "import matplotlib.pyplot as plt"
   ]
  },
  {
   "cell_type": "markdown",
   "metadata": {},
   "source": [
    "##### __Pandas__ works with _Series_ objects, containing data with a name, index column and single dtype"
   ]
  },
  {
   "cell_type": "code",
   "execution_count": 2,
   "metadata": {},
   "outputs": [
    {
     "data": {
      "text/plain": [
       "0      0.0\n",
       "1     60.0\n",
       "2    120.0\n",
       "3    180.0\n",
       "4    240.0\n",
       "Name: Time [s], dtype: float64"
      ]
     },
     "execution_count": 2,
     "metadata": {},
     "output_type": "execute_result"
    }
   ],
   "source": [
    "tdata = np.linspace(0,3600,61)\n",
    "sinedata = np.sin(2*np.pi*tdata/3600)\n",
    "\n",
    "tseries = pd.Series(tdata, name='Time [s]')\n",
    "sineseries = pd.Series(sinedata, name='Sine')\n",
    "\n",
    "tseries.head()"
   ]
  },
  {
   "cell_type": "code",
   "execution_count": 3,
   "metadata": {},
   "outputs": [
    {
     "data": {
      "text/plain": [
       "Text(0.5,1,'Plotting a Pandas Series object')"
      ]
     },
     "execution_count": 3,
     "metadata": {},
     "output_type": "execute_result"
    },
    {
     "data": {
      "image/png": "[encoded data removed]",
      "text/plain": [
       "<Figure size 432x288 with 1 Axes>"
      ]
     },
     "metadata": {},
     "output_type": "display_data"
    }
   ],
   "source": [
    "ax = sineseries.plot()\n",
    "ax.set_xlabel('Index')\n",
    "ax.set_ylabel('y')\n",
    "ax.set_title('Plotting a Pandas Series object')"
   ]
  },
  {
   "cell_type": "markdown",
   "metadata": {},
   "source": [
    "##### _Series_ objects support vector operations without having to loop through each element"
   ]
  },
  {
   "cell_type": "code",
   "execution_count": 4,
   "metadata": {},
   "outputs": [
    {
     "data": {
      "text/plain": [
       "0      NaN\n",
       "1    120.0\n",
       "2    240.0\n",
       "Name: Time [s], dtype: float64"
      ]
     },
     "execution_count": 4,
     "metadata": {},
     "output_type": "execute_result"
    }
   ],
   "source": [
    "tsum = tseries[1:] + tseries[:-1]\n",
    "tsum.head(3)"
   ]
  },
  {
   "cell_type": "code",
   "execution_count": 5,
   "metadata": {},
   "outputs": [
    {
     "data": {
      "text/plain": [
       "56    6720.0\n",
       "57    6840.0\n",
       "58    6960.0\n",
       "59    7080.0\n",
       "60       NaN\n",
       "Name: Time [s], dtype: float64"
      ]
     },
     "execution_count": 5,
     "metadata": {},
     "output_type": "execute_result"
    }
   ],
   "source": [
    "tsum.tail()"
   ]
  },
  {
   "cell_type": "markdown",
   "metadata": {},
   "source": [
    "##### Multiple Series can be combined into a 2D _DataFrame_ object"
   ]
  },
  {
   "cell_type": "code",
   "execution_count": 6,
   "metadata": {},
   "outputs": [
    {
     "data": {
      "text/html": [
       "<div>\n",
       "<style scoped>\n",
       "    .dataframe tbody tr th:only-of-type {\n",
       "        vertical-align: middle;\n",
       "    }\n",
       "\n",
       "    .dataframe tbody tr th {\n",
       "        vertical-align: top;\n",
       "    }\n",
       "\n",
       "    .dataframe thead th {\n",
       "        text-align: right;\n",
       "    }\n",
       "</style>\n",
       "<table border=\"1\" class=\"dataframe\">\n",
       "  <thead>\n",
       "    <tr style=\"text-align: right;\">\n",
       "      <th></th>\n",
       "      <th>Time [s]</th>\n",
       "      <th>Sine</th>\n",
       "    </tr>\n",
       "  </thead>\n",
       "  <tbody>\n",
       "    <tr>\n",
       "      <th>0</th>\n",
       "      <td>0.0</td>\n",
       "      <td>0.000000</td>\n",
       "    </tr>\n",
       "    <tr>\n",
       "      <th>1</th>\n",
       "      <td>60.0</td>\n",
       "      <td>0.104528</td>\n",
       "    </tr>\n",
       "    <tr>\n",
       "      <th>2</th>\n",
       "      <td>120.0</td>\n",
       "      <td>0.207912</td>\n",
       "    </tr>\n",
       "    <tr>\n",
       "      <th>3</th>\n",
       "      <td>180.0</td>\n",
       "      <td>0.309017</td>\n",
       "    </tr>\n",
       "    <tr>\n",
       "      <th>4</th>\n",
       "      <td>240.0</td>\n",
       "      <td>0.406737</td>\n",
       "    </tr>\n",
       "  </tbody>\n",
       "</table>\n",
       "</div>"
      ],
      "text/plain": [
       "   Time [s]      Sine\n",
       "0       0.0  0.000000\n",
       "1      60.0  0.104528\n",
       "2     120.0  0.207912\n",
       "3     180.0  0.309017\n",
       "4     240.0  0.406737"
      ]
     },
     "execution_count": 6,
     "metadata": {},
     "output_type": "execute_result"
    }
   ],
   "source": [
    "frame = {tseries.name: tseries, sineseries.name: sineseries}\n",
    "df = pd.DataFrame(frame)\n",
    "df.head()"
   ]
  },
  {
   "cell_type": "code",
   "execution_count": 7,
   "metadata": {},
   "outputs": [
    {
     "data": {
      "text/html": [
       "<div>\n",
       "<style scoped>\n",
       "    .dataframe tbody tr th:only-of-type {\n",
       "        vertical-align: middle;\n",
       "    }\n",
       "\n",
       "    .dataframe tbody tr th {\n",
       "        vertical-align: top;\n",
       "    }\n",
       "\n",
       "    .dataframe thead th {\n",
       "        text-align: right;\n",
       "    }\n",
       "</style>\n",
       "<table border=\"1\" class=\"dataframe\">\n",
       "  <thead>\n",
       "    <tr style=\"text-align: right;\">\n",
       "      <th></th>\n",
       "      <th>Time [s]</th>\n",
       "      <th>Sine</th>\n",
       "    </tr>\n",
       "  </thead>\n",
       "  <tbody>\n",
       "    <tr>\n",
       "      <th>58</th>\n",
       "      <td>3480.0</td>\n",
       "      <td>-2.079117e-01</td>\n",
       "    </tr>\n",
       "    <tr>\n",
       "      <th>59</th>\n",
       "      <td>3540.0</td>\n",
       "      <td>-1.045285e-01</td>\n",
       "    </tr>\n",
       "    <tr>\n",
       "      <th>60</th>\n",
       "      <td>3600.0</td>\n",
       "      <td>-2.449294e-16</td>\n",
       "    </tr>\n",
       "  </tbody>\n",
       "</table>\n",
       "</div>"
      ],
      "text/plain": [
       "    Time [s]          Sine\n",
       "58    3480.0 -2.079117e-01\n",
       "59    3540.0 -1.045285e-01\n",
       "60    3600.0 -2.449294e-16"
      ]
     },
     "execution_count": 7,
     "metadata": {},
     "output_type": "execute_result"
    }
   ],
   "source": [
    "df.tail(3)"
   ]
  },
  {
   "cell_type": "markdown",
   "metadata": {},
   "source": [
    "##### And how about multiple _DataFrames_?"
   ]
  },
  {
   "cell_type": "code",
   "execution_count": 8,
   "metadata": {},
   "outputs": [
    {
     "name": "stdout",
     "output_type": "stream",
     "text": [
      "       DF 1      DF 2\n",
      "0  0.926915 -0.807000\n",
      "1  0.068217 -0.007260\n",
      "2 -1.694744  0.817109\n",
      "3  0.654532 -1.267546\n",
      "       DF 1      DF 2\n",
      "0 -0.243158  0.670520\n",
      "1  1.490019 -1.455136\n",
      "2  1.027623 -0.192522\n",
      "3  0.456496 -1.083833\n",
      "       DF 1  DF 2\n",
      "0 -0.094649   NaN\n",
      "1 -1.034206   NaN\n",
      "2  0.066290   NaN\n",
      "3  1.392579   NaN\n"
     ]
    },
    {
     "name": "stderr",
     "output_type": "stream",
     "text": [
      "C:\\Users\\jsprd\\Anaconda3\\lib\\site-packages\\IPython\\core\\interactiveshell.py:2963: FutureWarning: \n",
      "Panel is deprecated and will be removed in a future version.\n",
      "The recommended way to represent these types of 3-dimensional data are with a MultiIndex on a DataFrame, via the Panel.to_frame() method\n",
      "Alternatively, you can use the xarray package http://xarray.pydata.org/en/stable/.\n",
      "Pandas provides a `.to_xarray()` method to help automate this conversion.\n",
      "\n",
      "  exec(code_obj, self.user_global_ns, self.user_ns)\n"
     ]
    }
   ],
   "source": [
    "data = {'DF 1' : pd.DataFrame(np.random.randn(4, 3)), \n",
    "   'DF 2' : pd.DataFrame(np.random.randn(4, 2))}\n",
    "p = pd.Panel(data)                                       # PANel DAta (S)\n",
    "print(p.minor_xs(0))\n",
    "print(p.minor_xs(1))\n",
    "print(p.minor_xs(2))"
   ]
  },
  {
   "cell_type": "markdown",
   "metadata": {},
   "source": [
    "##### For multidimensional data you can use Xarray or multi-indexing"
   ]
  },
  {
   "cell_type": "code",
   "execution_count": 9,
   "metadata": {},
   "outputs": [
    {
     "data": {
      "text/html": [
       "<div>\n",
       "<style scoped>\n",
       "    .dataframe tbody tr th:only-of-type {\n",
       "        vertical-align: middle;\n",
       "    }\n",
       "\n",
       "    .dataframe tbody tr th {\n",
       "        vertical-align: top;\n",
       "    }\n",
       "\n",
       "    .dataframe thead th {\n",
       "        text-align: right;\n",
       "    }\n",
       "</style>\n",
       "<table border=\"1\" class=\"dataframe\">\n",
       "  <thead>\n",
       "    <tr style=\"text-align: right;\">\n",
       "      <th></th>\n",
       "      <th></th>\n",
       "      <th>DF 1</th>\n",
       "      <th>DF 2</th>\n",
       "    </tr>\n",
       "    <tr>\n",
       "      <th>major</th>\n",
       "      <th>minor</th>\n",
       "      <th></th>\n",
       "      <th></th>\n",
       "    </tr>\n",
       "  </thead>\n",
       "  <tbody>\n",
       "    <tr>\n",
       "      <th rowspan=\"3\" valign=\"top\">0</th>\n",
       "      <th>0</th>\n",
       "      <td>0.926915</td>\n",
       "      <td>-0.807000</td>\n",
       "    </tr>\n",
       "    <tr>\n",
       "      <th>1</th>\n",
       "      <td>-0.243158</td>\n",
       "      <td>0.670520</td>\n",
       "    </tr>\n",
       "    <tr>\n",
       "      <th>2</th>\n",
       "      <td>-0.094649</td>\n",
       "      <td>NaN</td>\n",
       "    </tr>\n",
       "    <tr>\n",
       "      <th rowspan=\"3\" valign=\"top\">1</th>\n",
       "      <th>0</th>\n",
       "      <td>0.068217</td>\n",
       "      <td>-0.007260</td>\n",
       "    </tr>\n",
       "    <tr>\n",
       "      <th>1</th>\n",
       "      <td>1.490019</td>\n",
       "      <td>-1.455136</td>\n",
       "    </tr>\n",
       "    <tr>\n",
       "      <th>2</th>\n",
       "      <td>-1.034206</td>\n",
       "      <td>NaN</td>\n",
       "    </tr>\n",
       "    <tr>\n",
       "      <th rowspan=\"3\" valign=\"top\">2</th>\n",
       "      <th>0</th>\n",
       "      <td>-1.694744</td>\n",
       "      <td>0.817109</td>\n",
       "    </tr>\n",
       "    <tr>\n",
       "      <th>1</th>\n",
       "      <td>1.027623</td>\n",
       "      <td>-0.192522</td>\n",
       "    </tr>\n",
       "    <tr>\n",
       "      <th>2</th>\n",
       "      <td>0.066290</td>\n",
       "      <td>NaN</td>\n",
       "    </tr>\n",
       "    <tr>\n",
       "      <th rowspan=\"3\" valign=\"top\">3</th>\n",
       "      <th>0</th>\n",
       "      <td>0.654532</td>\n",
       "      <td>-1.267546</td>\n",
       "    </tr>\n",
       "    <tr>\n",
       "      <th>1</th>\n",
       "      <td>0.456496</td>\n",
       "      <td>-1.083833</td>\n",
       "    </tr>\n",
       "    <tr>\n",
       "      <th>2</th>\n",
       "      <td>1.392579</td>\n",
       "      <td>NaN</td>\n",
       "    </tr>\n",
       "  </tbody>\n",
       "</table>\n",
       "</div>"
      ],
      "text/plain": [
       "                 DF 1      DF 2\n",
       "major minor                    \n",
       "0     0      0.926915 -0.807000\n",
       "      1     -0.243158  0.670520\n",
       "      2     -0.094649       NaN\n",
       "1     0      0.068217 -0.007260\n",
       "      1      1.490019 -1.455136\n",
       "      2     -1.034206       NaN\n",
       "2     0     -1.694744  0.817109\n",
       "      1      1.027623 -0.192522\n",
       "      2      0.066290       NaN\n",
       "3     0      0.654532 -1.267546\n",
       "      1      0.456496 -1.083833\n",
       "      2      1.392579       NaN"
      ]
     },
     "execution_count": 9,
     "metadata": {},
     "output_type": "execute_result"
    }
   ],
   "source": [
    "p.to_frame(False)"
   ]
  },
  {
   "cell_type": "markdown",
   "metadata": {},
   "source": [
    "#### Indexing"
   ]
  },
  {
   "cell_type": "code",
   "execution_count": 10,
   "metadata": {},
   "outputs": [
    {
     "data": {
      "text/html": [
       "<div>\n",
       "<style scoped>\n",
       "    .dataframe tbody tr th:only-of-type {\n",
       "        vertical-align: middle;\n",
       "    }\n",
       "\n",
       "    .dataframe tbody tr th {\n",
       "        vertical-align: top;\n",
       "    }\n",
       "\n",
       "    .dataframe thead th {\n",
       "        text-align: right;\n",
       "    }\n",
       "</style>\n",
       "<table border=\"1\" class=\"dataframe\">\n",
       "  <thead>\n",
       "    <tr style=\"text-align: right;\">\n",
       "      <th></th>\n",
       "      <th>Time [s]</th>\n",
       "      <th>Sine</th>\n",
       "    </tr>\n",
       "  </thead>\n",
       "  <tbody>\n",
       "    <tr>\n",
       "      <th>56</th>\n",
       "      <td>3360.0</td>\n",
       "      <td>-0.406737</td>\n",
       "    </tr>\n",
       "    <tr>\n",
       "      <th>57</th>\n",
       "      <td>3420.0</td>\n",
       "      <td>-0.309017</td>\n",
       "    </tr>\n",
       "    <tr>\n",
       "      <th>58</th>\n",
       "      <td>3480.0</td>\n",
       "      <td>-0.207912</td>\n",
       "    </tr>\n",
       "    <tr>\n",
       "      <th>59</th>\n",
       "      <td>3540.0</td>\n",
       "      <td>-0.104528</td>\n",
       "    </tr>\n",
       "  </tbody>\n",
       "</table>\n",
       "</div>"
      ],
      "text/plain": [
       "    Time [s]      Sine\n",
       "56    3360.0 -0.406737\n",
       "57    3420.0 -0.309017\n",
       "58    3480.0 -0.207912\n",
       "59    3540.0 -0.104528"
      ]
     },
     "execution_count": 10,
     "metadata": {},
     "output_type": "execute_result"
    }
   ],
   "source": [
    "df[56:-1]     #index slicing"
   ]
  },
  {
   "cell_type": "code",
   "execution_count": 11,
   "metadata": {},
   "outputs": [
    {
     "data": {
      "text/html": [
       "<div>\n",
       "<style scoped>\n",
       "    .dataframe tbody tr th:only-of-type {\n",
       "        vertical-align: middle;\n",
       "    }\n",
       "\n",
       "    .dataframe tbody tr th {\n",
       "        vertical-align: top;\n",
       "    }\n",
       "\n",
       "    .dataframe thead th {\n",
       "        text-align: right;\n",
       "    }\n",
       "</style>\n",
       "<table border=\"1\" class=\"dataframe\">\n",
       "  <thead>\n",
       "    <tr style=\"text-align: right;\">\n",
       "      <th></th>\n",
       "      <th>Sine</th>\n",
       "    </tr>\n",
       "  </thead>\n",
       "  <tbody>\n",
       "    <tr>\n",
       "      <th>56</th>\n",
       "      <td>-0.406737</td>\n",
       "    </tr>\n",
       "    <tr>\n",
       "      <th>57</th>\n",
       "      <td>-0.309017</td>\n",
       "    </tr>\n",
       "    <tr>\n",
       "      <th>58</th>\n",
       "      <td>-0.207912</td>\n",
       "    </tr>\n",
       "    <tr>\n",
       "      <th>59</th>\n",
       "      <td>-0.104528</td>\n",
       "    </tr>\n",
       "  </tbody>\n",
       "</table>\n",
       "</div>"
      ],
      "text/plain": [
       "        Sine\n",
       "56 -0.406737\n",
       "57 -0.309017\n",
       "58 -0.207912\n",
       "59 -0.104528"
      ]
     },
     "execution_count": 11,
     "metadata": {},
     "output_type": "execute_result"
    }
   ],
   "source": [
    "df.loc[56:59,['Sine']]    #specify one column"
   ]
  },
  {
   "cell_type": "markdown",
   "metadata": {},
   "source": [
    "##### Accessing data in three (semi-)equivalent ways"
   ]
  },
  {
   "cell_type": "code",
   "execution_count": 12,
   "metadata": {},
   "outputs": [
    {
     "name": "stdout",
     "output_type": "stream",
     "text": [
      "[-0.40673664 -0.30901699 -0.20791169 -0.10452846]\n",
      "\n",
      "[[-0.40673664]\n",
      " [-0.30901699]\n",
      " [-0.20791169]\n",
      " [-0.10452846]]\n",
      "\n",
      "[-0.40673664 -0.30901699 -0.20791169 -0.10452846]\n"
     ]
    }
   ],
   "source": [
    "print(df[56:-1]['Sine'].values,  \n",
    "      df.loc[56:59,['Sine']].values,\n",
    "      df.iloc[56:-1,1].values,\n",
    "      sep='\\n\\n')"
   ]
  },
  {
   "cell_type": "code",
   "execution_count": 13,
   "metadata": {},
   "outputs": [
    {
     "data": {
      "text/html": [
       "<div>\n",
       "<style scoped>\n",
       "    .dataframe tbody tr th:only-of-type {\n",
       "        vertical-align: middle;\n",
       "    }\n",
       "\n",
       "    .dataframe tbody tr th {\n",
       "        vertical-align: top;\n",
       "    }\n",
       "\n",
       "    .dataframe thead th {\n",
       "        text-align: right;\n",
       "    }\n",
       "</style>\n",
       "<table border=\"1\" class=\"dataframe\">\n",
       "  <thead>\n",
       "    <tr style=\"text-align: right;\">\n",
       "      <th></th>\n",
       "      <th>Time [s]</th>\n",
       "      <th>Sine</th>\n",
       "    </tr>\n",
       "  </thead>\n",
       "  <tbody>\n",
       "    <tr>\n",
       "      <th>0</th>\n",
       "      <td>0.0</td>\n",
       "      <td>0.000000</td>\n",
       "    </tr>\n",
       "    <tr>\n",
       "      <th>1</th>\n",
       "      <td>60.0</td>\n",
       "      <td>0.104528</td>\n",
       "    </tr>\n",
       "    <tr>\n",
       "      <th>2</th>\n",
       "      <td>120.0</td>\n",
       "      <td>0.207912</td>\n",
       "    </tr>\n",
       "    <tr>\n",
       "      <th>3</th>\n",
       "      <td>180.0</td>\n",
       "      <td>0.309017</td>\n",
       "    </tr>\n",
       "    <tr>\n",
       "      <th>4</th>\n",
       "      <td>240.0</td>\n",
       "      <td>0.406737</td>\n",
       "    </tr>\n",
       "    <tr>\n",
       "      <th>5</th>\n",
       "      <td>300.0</td>\n",
       "      <td>0.500000</td>\n",
       "    </tr>\n",
       "    <tr>\n",
       "      <th>6</th>\n",
       "      <td>360.0</td>\n",
       "      <td>0.587785</td>\n",
       "    </tr>\n",
       "    <tr>\n",
       "      <th>7</th>\n",
       "      <td>420.0</td>\n",
       "      <td>0.669131</td>\n",
       "    </tr>\n",
       "  </tbody>\n",
       "</table>\n",
       "</div>"
      ],
      "text/plain": [
       "   Time [s]      Sine\n",
       "0       0.0  0.000000\n",
       "1      60.0  0.104528\n",
       "2     120.0  0.207912\n",
       "3     180.0  0.309017\n",
       "4     240.0  0.406737\n",
       "5     300.0  0.500000\n",
       "6     360.0  0.587785\n",
       "7     420.0  0.669131"
      ]
     },
     "execution_count": 13,
     "metadata": {},
     "output_type": "execute_result"
    }
   ],
   "source": [
    "df[df['Time [s]'] < 450]     #boolean indexing"
   ]
  },
  {
   "cell_type": "markdown",
   "metadata": {},
   "source": [
    "#### Restructuring _DataFrames_"
   ]
  },
  {
   "cell_type": "markdown",
   "metadata": {},
   "source": [
    "##### _DataFrame_ objects can be easily modified in many possible ways "
   ]
  },
  {
   "cell_type": "code",
   "execution_count": 14,
   "metadata": {},
   "outputs": [
    {
     "data": {
      "text/html": [
       "<div>\n",
       "<style scoped>\n",
       "    .dataframe tbody tr th:only-of-type {\n",
       "        vertical-align: middle;\n",
       "    }\n",
       "\n",
       "    .dataframe tbody tr th {\n",
       "        vertical-align: top;\n",
       "    }\n",
       "\n",
       "    .dataframe thead th {\n",
       "        text-align: right;\n",
       "    }\n",
       "</style>\n",
       "<table border=\"1\" class=\"dataframe\">\n",
       "  <thead>\n",
       "    <tr style=\"text-align: right;\">\n",
       "      <th></th>\n",
       "      <th>Date</th>\n",
       "      <th>Sine</th>\n",
       "      <th>Cosine</th>\n",
       "    </tr>\n",
       "    <tr>\n",
       "      <th>Time [s]</th>\n",
       "      <th></th>\n",
       "      <th></th>\n",
       "      <th></th>\n",
       "    </tr>\n",
       "  </thead>\n",
       "  <tbody>\n",
       "    <tr>\n",
       "      <th>0.0</th>\n",
       "      <td>2019-05-15 12:30:00</td>\n",
       "      <td>0.000000</td>\n",
       "      <td>1.000000</td>\n",
       "    </tr>\n",
       "    <tr>\n",
       "      <th>60.0</th>\n",
       "      <td>2019-05-15 12:31:00</td>\n",
       "      <td>0.104528</td>\n",
       "      <td>0.994522</td>\n",
       "    </tr>\n",
       "    <tr>\n",
       "      <th>120.0</th>\n",
       "      <td>2019-05-15 12:32:00</td>\n",
       "      <td>0.207912</td>\n",
       "      <td>0.978148</td>\n",
       "    </tr>\n",
       "    <tr>\n",
       "      <th>180.0</th>\n",
       "      <td>2019-05-15 12:33:00</td>\n",
       "      <td>0.309017</td>\n",
       "      <td>0.951057</td>\n",
       "    </tr>\n",
       "    <tr>\n",
       "      <th>240.0</th>\n",
       "      <td>2019-05-15 12:34:00</td>\n",
       "      <td>0.406737</td>\n",
       "      <td>0.913545</td>\n",
       "    </tr>\n",
       "  </tbody>\n",
       "</table>\n",
       "</div>"
      ],
      "text/plain": [
       "                        Date      Sine    Cosine\n",
       "Time [s]                                        \n",
       "0.0      2019-05-15 12:30:00  0.000000  1.000000\n",
       "60.0     2019-05-15 12:31:00  0.104528  0.994522\n",
       "120.0    2019-05-15 12:32:00  0.207912  0.978148\n",
       "180.0    2019-05-15 12:33:00  0.309017  0.951057\n",
       "240.0    2019-05-15 12:34:00  0.406737  0.913545"
      ]
     },
     "execution_count": 14,
     "metadata": {},
     "output_type": "execute_result"
    }
   ],
   "source": [
    "df['Date'] = pd.date_range('20190515123000','20190515133000',periods=61) #add column\n",
    "df['Cosine'] = np.cos(2*np.pi*tdata/3600)                    #add another column\n",
    "df = df.set_index('Time [s]', drop=True)                     #replace index\n",
    "df = df[['Date','Sine','Cosine']]                            #reorder columns \n",
    "df.head()"
   ]
  },
  {
   "cell_type": "markdown",
   "metadata": {},
   "source": [
    "##### _Concat_ is used to combine _DataFrames_ "
   ]
  },
  {
   "cell_type": "code",
   "execution_count": 15,
   "metadata": {},
   "outputs": [
    {
     "name": "stdout",
     "output_type": "stream",
     "text": [
      "   A  B\n",
      "0  0  2\n",
      "1  1  7\n",
      "2  2  2\n",
      "\n",
      "   A  B\n",
      "3  3  0\n",
      "4  4  0\n",
      "\n",
      "   A  B\n",
      "0  0  2\n",
      "1  1  7\n",
      "2  2  2\n",
      "3  3  0\n",
      "4  4  0\n"
     ]
    }
   ],
   "source": [
    "df1 = pd.DataFrame({'A':[0,1,2],'B':[2,7,2]},index=[0,1,2])\n",
    "df2 = pd.DataFrame({'A':[3,4],'B':[0,0]},index=[3,4])\n",
    "df3 = pd.concat([df1,df2])\n",
    "print(df1,df2,df3,sep='\\n\\n')"
   ]
  },
  {
   "cell_type": "markdown",
   "metadata": {},
   "source": [
    "##### Merge "
   ]
  },
  {
   "cell_type": "code",
   "execution_count": 16,
   "metadata": {},
   "outputs": [
    {
     "name": "stdout",
     "output_type": "stream",
     "text": [
      "   A  B\n",
      "0  0  2\n",
      "1  1  7\n",
      "\n",
      "   B  C\n",
      "0  2  0\n",
      "1  7  0\n",
      "\n",
      "   A  B  C\n",
      "0  0  2  0\n",
      "1  1  7  0\n",
      "\n",
      "\n"
     ]
    }
   ],
   "source": [
    "df1 = pd.DataFrame({'A':[0,1],'B':[2,7]},index=[0,1])\n",
    "df2 = pd.DataFrame({'B':[2,7],'C':[0,0]},index=[0,1])\n",
    "df3 = pd.merge(df1,df2)\n",
    "print(df1,df2,df3,'',sep='\\n\\n')\n",
    "\n"
   ]
  },
  {
   "cell_type": "markdown",
   "metadata": {},
   "source": [
    "##### Remove a column"
   ]
  },
  {
   "cell_type": "code",
   "execution_count": 17,
   "metadata": {},
   "outputs": [
    {
     "name": "stdout",
     "output_type": "stream",
     "text": [
      "   A  C\n",
      "0  0  0\n",
      "1  1  0\n"
     ]
    }
   ],
   "source": [
    "del df3['B']             #similar to: b = df3.pop('B')   or   df3 = df3.drop(columns=['B'])\n",
    "print(df3)"
   ]
  },
  {
   "cell_type": "markdown",
   "metadata": {},
   "source": [
    "#### Import/Export"
   ]
  },
  {
   "cell_type": "code",
   "execution_count": 21,
   "metadata": {},
   "outputs": [
    {
     "name": "stdout",
     "output_type": "stream",
     "text": [
      "    time_since_7-5-1976-00UTC[hr]  day  hour  dpdx[Pa/km]  dpdy[Pa/km]  \\\n",
      "0                             0.0  0.0   0.0     -0.81743      0.42456   \n",
      "1                             1.0  0.0   1.0      0.52544      0.11659   \n",
      "2                             2.0  0.0   2.0      0.23345      0.65774   \n",
      "3                             3.0  0.0   3.0     -0.87598      1.62340   \n",
      "4                             4.0  0.0   4.0      0.93415     -0.09569   \n",
      "5                             5.0  0.0   5.0      1.57630      0.34977   \n",
      "6                             6.0  0.0   6.0      2.45230     -1.27370   \n",
      "7                             7.0  0.0   7.0      1.22610     -0.63684   \n",
      "8                             8.0  0.0   8.0      1.16760      0.56205   \n",
      "9                             9.0  0.0   9.0      0.64216      0.44546   \n",
      "10                           10.0  0.0  10.0      0.40872     -0.21228   \n",
      "11                           11.0  0.0  11.0      0.52544      0.11659   \n",
      "12                           12.0  0.0  12.0      1.28430      0.89092   \n",
      "13                           13.0  0.0  13.0      0.11672      0.32887   \n",
      "14                           14.0  0.0  14.0      1.05090      0.23318   \n",
      "15                           15.0  0.0  15.0      0.11672      0.32887   \n",
      "16                           16.0  0.0  16.0     -0.70071      0.75343   \n",
      "17                           17.0  0.0  17.0     -1.22610      0.63684   \n",
      "18                           18.0  0.0  18.0     -0.81743      0.42456   \n",
      "19                           19.0  0.0  19.0     -0.29199      0.54115   \n",
      "20                           20.0  0.0  20.0     -0.81743      0.42456   \n",
      "21                           21.0  0.0  21.0     -0.11672     -0.32887   \n",
      "22                           22.0  0.0  22.0      0.00000      0.00000   \n",
      "23                           23.0  0.0  23.0     -0.11672     -0.32887   \n",
      "24                           24.0  1.0   0.0      0.17527     -0.87002   \n",
      "25                           25.0  1.0   1.0      0.17527     -0.87002   \n",
      "26                           26.0  1.0   2.0      0.29199     -0.54115   \n",
      "27                           27.0  1.0   3.0      2.27700     -0.40365   \n",
      "28                           28.0  1.0   4.0      1.86830     -0.19138   \n",
      "29                           29.0  1.0   5.0     -0.11672     -0.32887   \n",
      "30                           30.0  1.0   6.0     -0.81743      0.42456   \n",
      "31                           31.0  1.0   7.0     -0.52544     -0.11659   \n",
      "32                           32.0  1.0   8.0      0.75888      0.77433   \n",
      "33                           33.0  1.0   9.0     -0.70071      0.75343   \n",
      "34                           34.0  1.0  10.0     -0.87598      1.62340   \n",
      "35                           35.0  1.0  11.0     -0.99270      1.29460   \n",
      "36                           36.0  1.0  12.0     -1.81010      1.71910   \n",
      "37                           37.0  1.0  13.0     -2.86100      1.48600   \n",
      "38                           38.0  1.0  14.0     -1.86830      0.19138   \n",
      "39                           39.0  1.0  15.0     -2.10180     -0.46636   \n",
      "40                           40.0  1.0  16.0     -0.52544     -0.11659   \n",
      "41                           41.0  1.0  17.0     -0.35017     -0.98661   \n",
      "42                           42.0  1.0  18.0     -1.10910     -1.76090   \n",
      "43                           43.0  1.0  19.0     -0.11672     -0.32887   \n",
      "44                           44.0  1.0  20.0     -0.11672     -0.32887   \n",
      "45                           45.0  1.0  21.0     -1.34290      0.30797   \n",
      "46                           46.0  1.0  22.0     -0.11672     -0.32887   \n",
      "47                           47.0  1.0  23.0     -4.26210      0.26616   \n",
      "\n",
      "    u0[m/s]  v0[m/s]  dpdx_m[Pa/km]  u0_m[m/s]  v0_m[m/s]  \n",
      "0  -9.03930 -7.58490            NaN        NaN        NaN  \n",
      "1  -7.50720 -6.29930            NaN        NaN        NaN  \n",
      "2  -8.27330 -6.94210            NaN        NaN        NaN  \n",
      "3  -7.50720 -6.29930            NaN        NaN        NaN  \n",
      "4  -8.27330 -6.94210            NaN        NaN        NaN  \n",
      "5  -7.10140 -4.10000            NaN        NaN        NaN  \n",
      "6  -7.10140 -4.10000            NaN        NaN        NaN  \n",
      "7  -7.10140 -4.10000            NaN        NaN        NaN  \n",
      "8  -7.58300 -1.33710            NaN        NaN        NaN  \n",
      "9  -6.59820  1.16340            NaN        NaN        NaN  \n",
      "10 -6.23540  3.60000            NaN        NaN        NaN  \n",
      "11 -2.55000  4.41670            NaN        NaN        NaN  \n",
      "12 -1.40230  3.85270            NaN        NaN        NaN  \n",
      "13 -0.79878  4.53010            NaN        NaN        NaN  \n",
      "14  0.88561  5.02250            NaN        NaN        NaN  \n",
      "15  2.75780  2.31400            NaN        NaN        NaN  \n",
      "16  2.68470 -1.55000            NaN        NaN        NaN  \n",
      "17  1.99260 -2.37470            NaN        NaN        NaN  \n",
      "18  1.40230 -3.85270            NaN        NaN        NaN  \n",
      "19  1.40230 -3.85270            NaN        NaN        NaN  \n",
      "20  0.62513 -3.54530            NaN        NaN        NaN  \n",
      "21 -1.30000 -2.25170            NaN        NaN        NaN  \n",
      "22 -3.11770 -1.80000            NaN        NaN        NaN  \n",
      "23 -5.10000  0.00000            NaN        NaN        NaN  \n",
      "24 -5.35620  1.94950      -0.321080   -7.19780  -2.817700  \n",
      "25 -5.61340  0.98979       0.350350   -6.56030  -2.654800  \n",
      "26 -4.79240  1.74430       0.262720   -6.53290  -2.598900  \n",
      "27 -5.35620  1.94950       0.700520   -6.43170  -2.174900  \n",
      "28 -5.82610  2.12050       1.401200   -7.04970  -2.410800  \n",
      "29 -4.74950  3.98530       0.729800   -5.92540  -0.057358  \n",
      "30 -2.63540  3.14080       0.817430   -4.86840  -0.479610  \n",
      "31 -1.40230  3.85270       0.350350   -4.25180  -0.123630  \n",
      "32  1.80000  3.11770       0.963240   -2.89150   0.890300  \n",
      "33  0.71824  1.97340      -0.029273   -2.94000   1.568400  \n",
      "34  1.55000  2.68470      -0.233630   -2.34270   3.142300  \n",
      "35  1.99170  1.67120      -0.233630   -0.27914   3.044000  \n",
      "36  4.03770  0.71196      -0.262900    1.31770   2.282300  \n",
      "37  6.29590 -2.29150      -1.372100    2.74860   1.119300  \n",
      "38  1.80000 -3.11770      -0.408720    1.34280   0.952410  \n",
      "39  2.85000 -4.93630      -0.992520    2.80390  -1.311200  \n",
      "40  2.12050 -5.82610      -0.613070    2.40260  -3.688000  \n",
      "41  2.46250 -6.76580      -0.788160    2.22760  -4.570300  \n",
      "42  2.12050 -5.82610      -0.963240    1.76140  -4.839400  \n",
      "43  2.55000 -4.41670      -0.204360    1.97610  -4.134700  \n",
      "44  0.88561 -5.02250      -0.467080    0.75537  -4.283900  \n",
      "45 -0.79878 -4.53010      -0.729800   -1.04940  -3.390900  \n",
      "46  0.00000 -4.10000      -0.058361   -1.55880  -2.950000  \n",
      "47  1.30000  2.25170      -2.189400   -1.90000   1.125800  \n"
     ]
    }
   ],
   "source": [
    "path = 'C:/Users/jsprd/Documents/PythonForLunch/Python-for-lunch-Notebooks/PFL_11_Pandas/'\n",
    "df_knmi = pd.read_csv(path+'knmi_ijmuiden.csv')\n",
    "print(df_knmi)"
   ]
  },
  {
   "cell_type": "code",
   "execution_count": 22,
   "metadata": {},
   "outputs": [],
   "source": [
    "df_knmi.to_excel(path+'exceldataframe.xlsx')"
   ]
  },
  {
   "cell_type": "markdown",
   "metadata": {},
   "source": [
    "#### Plotting"
   ]
  },
  {
   "cell_type": "code",
   "execution_count": 23,
   "metadata": {},
   "outputs": [
    {
     "data": {
      "image/png": "[encoded data removed]",
      "text/plain": [
       "<Figure size 432x288 with 1 Axes>"
      ]
     },
     "metadata": {},
     "output_type": "display_data"
    }
   ],
   "source": [
    "ax = df.plot('Date',['Sine','Cosine'])\n",
    "ax.set_title('Dataframe plotting')\n",
    "ax.set_ylabel('y')\n",
    "plt.show()"
   ]
  },
  {
   "cell_type": "markdown",
   "metadata": {},
   "source": [
    "#### Statistics"
   ]
  },
  {
   "cell_type": "markdown",
   "metadata": {},
   "source": [
    "rolling mean\n",
    "autocorrelationplot\n",
    "data36.com pandas tutorial 1 basic reading data files dataframes data selection select user id, country and topic columns etc...\n",
    "example from learnpython pandas basics"
   ]
  },
  {
   "cell_type": "code",
   "execution_count": 24,
   "metadata": {},
   "outputs": [
    {
     "data": {
      "text/html": [
       "<div>\n",
       "<style scoped>\n",
       "    .dataframe tbody tr th:only-of-type {\n",
       "        vertical-align: middle;\n",
       "    }\n",
       "\n",
       "    .dataframe tbody tr th {\n",
       "        vertical-align: top;\n",
       "    }\n",
       "\n",
       "    .dataframe thead th {\n",
       "        text-align: right;\n",
       "    }\n",
       "</style>\n",
       "<table border=\"1\" class=\"dataframe\">\n",
       "  <thead>\n",
       "    <tr style=\"text-align: right;\">\n",
       "      <th></th>\n",
       "      <th>Sine</th>\n",
       "      <th>Cosine</th>\n",
       "    </tr>\n",
       "  </thead>\n",
       "  <tbody>\n",
       "    <tr>\n",
       "      <th>count</th>\n",
       "      <td>6.100000e+01</td>\n",
       "      <td>6.100000e+01</td>\n",
       "    </tr>\n",
       "    <tr>\n",
       "      <th>mean</th>\n",
       "      <td>-2.813074e-17</td>\n",
       "      <td>1.639344e-02</td>\n",
       "    </tr>\n",
       "    <tr>\n",
       "      <th>std</th>\n",
       "      <td>7.071068e-01</td>\n",
       "      <td>7.186052e-01</td>\n",
       "    </tr>\n",
       "    <tr>\n",
       "      <th>min</th>\n",
       "      <td>-1.000000e+00</td>\n",
       "      <td>-1.000000e+00</td>\n",
       "    </tr>\n",
       "    <tr>\n",
       "      <th>25%</th>\n",
       "      <td>-6.691306e-01</td>\n",
       "      <td>-6.691306e-01</td>\n",
       "    </tr>\n",
       "    <tr>\n",
       "      <th>50%</th>\n",
       "      <td>0.000000e+00</td>\n",
       "      <td>6.123234e-17</td>\n",
       "    </tr>\n",
       "    <tr>\n",
       "      <th>75%</th>\n",
       "      <td>6.691306e-01</td>\n",
       "      <td>7.431448e-01</td>\n",
       "    </tr>\n",
       "    <tr>\n",
       "      <th>max</th>\n",
       "      <td>1.000000e+00</td>\n",
       "      <td>1.000000e+00</td>\n",
       "    </tr>\n",
       "  </tbody>\n",
       "</table>\n",
       "</div>"
      ],
      "text/plain": [
       "               Sine        Cosine\n",
       "count  6.100000e+01  6.100000e+01\n",
       "mean  -2.813074e-17  1.639344e-02\n",
       "std    7.071068e-01  7.186052e-01\n",
       "min   -1.000000e+00 -1.000000e+00\n",
       "25%   -6.691306e-01 -6.691306e-01\n",
       "50%    0.000000e+00  6.123234e-17\n",
       "75%    6.691306e-01  7.431448e-01\n",
       "max    1.000000e+00  1.000000e+00"
      ]
     },
     "execution_count": 24,
     "metadata": {},
     "output_type": "execute_result"
    }
   ],
   "source": [
    "df.describe()"
   ]
  },
  {
   "cell_type": "code",
   "execution_count": 25,
   "metadata": {},
   "outputs": [
    {
     "data": {
      "text/html": [
       "<div>\n",
       "<style scoped>\n",
       "    .dataframe tbody tr th:only-of-type {\n",
       "        vertical-align: middle;\n",
       "    }\n",
       "\n",
       "    .dataframe tbody tr th {\n",
       "        vertical-align: top;\n",
       "    }\n",
       "\n",
       "    .dataframe thead th {\n",
       "        text-align: right;\n",
       "    }\n",
       "</style>\n",
       "<table border=\"1\" class=\"dataframe\">\n",
       "  <thead>\n",
       "    <tr style=\"text-align: right;\">\n",
       "      <th></th>\n",
       "      <th>Sine</th>\n",
       "      <th>Cosine</th>\n",
       "    </tr>\n",
       "  </thead>\n",
       "  <tbody>\n",
       "    <tr>\n",
       "      <th>Sine</th>\n",
       "      <td>1.000000e+00</td>\n",
       "      <td>2.532414e-17</td>\n",
       "    </tr>\n",
       "    <tr>\n",
       "      <th>Cosine</th>\n",
       "      <td>2.532414e-17</td>\n",
       "      <td>1.000000e+00</td>\n",
       "    </tr>\n",
       "  </tbody>\n",
       "</table>\n",
       "</div>"
      ],
      "text/plain": [
       "                Sine        Cosine\n",
       "Sine    1.000000e+00  2.532414e-17\n",
       "Cosine  2.532414e-17  1.000000e+00"
      ]
     },
     "execution_count": 25,
     "metadata": {},
     "output_type": "execute_result"
    }
   ],
   "source": [
    "df.corr()"
   ]
  },
  {
   "cell_type": "code",
   "execution_count": 26,
   "metadata": {},
   "outputs": [
    {
     "data": {
      "text/html": [
       "<div>\n",
       "<style scoped>\n",
       "    .dataframe tbody tr th:only-of-type {\n",
       "        vertical-align: middle;\n",
       "    }\n",
       "\n",
       "    .dataframe tbody tr th {\n",
       "        vertical-align: top;\n",
       "    }\n",
       "\n",
       "    .dataframe thead th {\n",
       "        text-align: right;\n",
       "    }\n",
       "</style>\n",
       "<table border=\"1\" class=\"dataframe\">\n",
       "  <thead>\n",
       "    <tr style=\"text-align: right;\">\n",
       "      <th></th>\n",
       "      <th>Time [s]</th>\n",
       "      <th>Sine</th>\n",
       "      <th>Cosine</th>\n",
       "    </tr>\n",
       "  </thead>\n",
       "  <tbody>\n",
       "    <tr>\n",
       "      <th>0</th>\n",
       "      <td>0.0</td>\n",
       "      <td>0.000000</td>\n",
       "      <td>1.000000</td>\n",
       "    </tr>\n",
       "    <tr>\n",
       "      <th>1</th>\n",
       "      <td>60.0</td>\n",
       "      <td>0.104528</td>\n",
       "      <td>0.994522</td>\n",
       "    </tr>\n",
       "    <tr>\n",
       "      <th>2</th>\n",
       "      <td>120.0</td>\n",
       "      <td>0.207912</td>\n",
       "      <td>0.978148</td>\n",
       "    </tr>\n",
       "    <tr>\n",
       "      <th>3</th>\n",
       "      <td>180.0</td>\n",
       "      <td>0.309017</td>\n",
       "      <td>0.951057</td>\n",
       "    </tr>\n",
       "    <tr>\n",
       "      <th>4</th>\n",
       "      <td>240.0</td>\n",
       "      <td>0.406737</td>\n",
       "      <td>0.913545</td>\n",
       "    </tr>\n",
       "  </tbody>\n",
       "</table>\n",
       "</div>"
      ],
      "text/plain": [
       "   Time [s]      Sine    Cosine\n",
       "0       0.0  0.000000  1.000000\n",
       "1      60.0  0.104528  0.994522\n",
       "2     120.0  0.207912  0.978148\n",
       "3     180.0  0.309017  0.951057\n",
       "4     240.0  0.406737  0.913545"
      ]
     },
     "execution_count": 26,
     "metadata": {},
     "output_type": "execute_result"
    }
   ],
   "source": [
    "Date = df.pop('Date')\n",
    "df_fourier = df.apply(np.fft.fft, axis=0)\n",
    "df = df.reset_index() \n",
    "df.head()"
   ]
  },
  {
   "cell_type": "code",
   "execution_count": 27,
   "metadata": {},
   "outputs": [
    {
     "data": {
      "text/html": [
       "<div>\n",
       "<style scoped>\n",
       "    .dataframe tbody tr th:only-of-type {\n",
       "        vertical-align: middle;\n",
       "    }\n",
       "\n",
       "    .dataframe tbody tr th {\n",
       "        vertical-align: top;\n",
       "    }\n",
       "\n",
       "    .dataframe thead th {\n",
       "        text-align: right;\n",
       "    }\n",
       "</style>\n",
       "<table border=\"1\" class=\"dataframe\">\n",
       "  <thead>\n",
       "    <tr style=\"text-align: right;\">\n",
       "      <th></th>\n",
       "      <th>Frequency [Hz]</th>\n",
       "      <th>Sine</th>\n",
       "      <th>Cosine</th>\n",
       "    </tr>\n",
       "    <tr>\n",
       "      <th>Time [s]</th>\n",
       "      <th></th>\n",
       "      <th></th>\n",
       "      <th></th>\n",
       "    </tr>\n",
       "  </thead>\n",
       "  <tbody>\n",
       "    <tr>\n",
       "      <th>0.0</th>\n",
       "      <td>0.000000</td>\n",
       "      <td>(2.7755575615628914e-16+0j)</td>\n",
       "      <td>(0.9999999999999947+0j)</td>\n",
       "    </tr>\n",
       "    <tr>\n",
       "      <th>60.0</th>\n",
       "      <td>0.000273</td>\n",
       "      <td>(1.5563914215279864-30.193577784332277j)</td>\n",
       "      <td>(30.697717453783213+1.5823783602866173j)</td>\n",
       "    </tr>\n",
       "    <tr>\n",
       "      <th>120.0</th>\n",
       "      <td>0.000546</td>\n",
       "      <td>(-0.07053980207487168+0.6824085965244752j)</td>\n",
       "      <td>(-0.34597960531593475-0.035763519107504256j)</td>\n",
       "    </tr>\n",
       "    <tr>\n",
       "      <th>180.0</th>\n",
       "      <td>0.000820</td>\n",
       "      <td>(-0.05909958025046402+0.3794617003862681j)</td>\n",
       "      <td>(-0.12768716894647447-0.019886745040211283j)</td>\n",
       "    </tr>\n",
       "    <tr>\n",
       "      <th>240.0</th>\n",
       "      <td>0.001093</td>\n",
       "      <td>(-0.055925237487294915+0.26762250654058184j)</td>\n",
       "      <td>(-0.06711710078877231-0.014025501253953956j)</td>\n",
       "    </tr>\n",
       "  </tbody>\n",
       "</table>\n",
       "</div>"
      ],
      "text/plain": [
       "          Frequency [Hz]                                          Sine  \\\n",
       "Time [s]                                                                 \n",
       "0.0             0.000000                   (2.7755575615628914e-16+0j)   \n",
       "60.0            0.000273      (1.5563914215279864-30.193577784332277j)   \n",
       "120.0           0.000546    (-0.07053980207487168+0.6824085965244752j)   \n",
       "180.0           0.000820    (-0.05909958025046402+0.3794617003862681j)   \n",
       "240.0           0.001093  (-0.055925237487294915+0.26762250654058184j)   \n",
       "\n",
       "                                                Cosine  \n",
       "Time [s]                                                \n",
       "0.0                            (0.9999999999999947+0j)  \n",
       "60.0          (30.697717453783213+1.5823783602866173j)  \n",
       "120.0     (-0.34597960531593475-0.035763519107504256j)  \n",
       "180.0     (-0.12768716894647447-0.019886745040211283j)  \n",
       "240.0     (-0.06711710078877231-0.014025501253953956j)  "
      ]
     },
     "execution_count": 27,
     "metadata": {},
     "output_type": "execute_result"
    }
   ],
   "source": [
    "df_fourier.insert(0,'Frequency [Hz]',np.fft.fftfreq(len(df_fourier),60))\n",
    "df_fourier.head()"
   ]
  },
  {
   "cell_type": "code",
   "execution_count": 28,
   "metadata": {},
   "outputs": [
    {
     "name": "stderr",
     "output_type": "stream",
     "text": [
      "C:\\Users\\jsprd\\Anaconda3\\lib\\site-packages\\numpy\\core\\numeric.py:492: ComplexWarning: Casting complex values to real discards the imaginary part\n",
      "  return array(a, dtype, copy=False, order=order)\n"
     ]
    },
    {
     "data": {
      "image/png": "[encoded data removed]",
      "text/plain": [
       "<Figure size 432x288 with 1 Axes>"
      ]
     },
     "metadata": {},
     "output_type": "display_data"
    }
   ],
   "source": [
    "ax = df_fourier.plot('Frequency [Hz]', ['Sine','Cosine'], use_index=True)\n",
    "ax.set_title('Fourier function on data')\n",
    "ax.set_ylabel('Y')\n",
    "ax.set_xlim(left=0)\n",
    "plt.show()"
   ]
  },
  {
   "cell_type": "markdown",
   "metadata": {},
   "source": [
    "#### Exercise"
   ]
  },
  {
   "cell_type": "markdown",
   "metadata": {},
   "source": [
    "On the _Python For Lunch_ Github page you can find a file named 'population.csv', in which the yearly population for many regions is shown. We can perform a small analysis using Pandas.\n",
    "1) Make a plot of the Dutch population for all available years.\n",
    "2) Create a _DataFrame_ consisting of the time series for the Netherlands, France, China and Burundi (Country Codes: _NLD, FRA, CHN and BDI_). Compute the relative increase for all countries (yearly increase divided by population, you can use for example _DataFrame.diff()_). The relative increase time series can be compared among countries. Make a table of the correlation coefficients."
   ]
  },
  {
   "cell_type": "code",
   "execution_count": null,
   "metadata": {},
   "outputs": [],
   "source": []
  }
 ],
 "metadata": {
  "kernelspec": {
   "display_name": "Python 3",
   "language": "python",
   "name": "python3"
  },
  "language_info": {
   "codemirror_mode": {
    "name": "ipython",
    "version": 3
   },
   "file_extension": ".py",
   "mimetype": "text/x-python",
   "name": "python",
   "nbconvert_exporter": "python",
   "pygments_lexer": "ipython3",
   "version": "3.6.5"
  }
 },
 "nbformat": 4,
 "nbformat_minor": 2
}
