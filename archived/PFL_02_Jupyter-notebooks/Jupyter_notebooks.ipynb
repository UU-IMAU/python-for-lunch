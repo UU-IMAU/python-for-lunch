{
 "cells": [
  {
   "cell_type": "markdown",
   "metadata": {},
   "source": [
    "# Jupyter\n",
    "\n",
    "## What is Jupyter?\n",
    "\n",
    "> Project Jupyter is a non-profit, open-source project, born out of the IPython Project in 2014 as it evolved to support interactive data science and scientific computing across all programming languages.\n",
    "\n",
    "The name is an amalgamation of Julia, Python, and R, some of the first languages supported in the Jupyter notebooks.\n",
    "\n",
    "## What are Jupyter notebooks?\n",
    "\n",
    "The Jupyter notebooks combine live code, visualizations, and narrative text including equations. The notebooks are structured in independent executable cells.\n",
    "\n",
    "The notebook `.ipynb` files themselves are simple JSON files and can be opened with the `Jupyter notebook` app or `Jupyter Lab`.\n",
    "\n",
    "(if you simply want to view an online notebook file, enter it at https://nbviewer.jupyter.org/)\n",
    "\n",
    "### Step 0\n",
    "\n",
    "make sure you are in a python environment that has jupyter installed (see [Daniele's explanation of conda and environments](https://github.com/UU-IMAU/Python-for-lunch-Notebooks/blob/master/conda_and_environments.md))\n",
    "\n",
    "\n",
    "### Step 1\n",
    "\n",
    "__(option A)__ open the jupyter `NotebookApp` by typing\n",
    "\n",
    "`jupyter notebook`\n",
    "\n",
    "in the terminal, or\n",
    "\n",
    "__(option B)__ open the more elaborate jupyter `LabApp` development environment (if you have it installed) with\n",
    "\n",
    "`jupyter lab`\n",
    "\n",
    "You can use notebooks remotely: see [Leo's jupyter notebook example](https://github.com/UU-IMAU/Python-for-lunch-Notebooks/blob/master/Jupyter_on_Gemini.md) or André's Cartesius jupyterlab example"
   ]
  },
  {
   "cell_type": "markdown",
   "metadata": {},
   "source": [
    "# Using the notebook\n",
    "\n",
    "There is the menubar above for navigating a notebook but you will find the following shortcuts helpful:\n",
    "\n",
    "- `Enter` : enter the edit mode of a cell\n",
    "- `Esc` : leave the edit mode and get into the *control* mode (see icons on the right of the menu bar)\n",
    "- `Shift + Enter` : execute cell and advance to next cell\n",
    "- `Alt + Enter` : execute cell and insert an empty cell below\n",
    "- `Ctrl + Enter` : execute cell in place (do not advance to the next cell)\n",
    "- `Esc` : (to enter command mode) then `H` to display keyboard shortcuts\n",
    "- `A`/`B` : create an empty cell above/below the current cell\n",
    "- `M` : change cell to markdown\n",
    "- `D+D` : (press twice) tp delete current cell\n",
    "\n",
    "At times you might run code that gets stuck in an infinite loop or simply you want to clear all your workspace variables and start over. To do that you can do:\n",
    "\n",
    "`Kernel -> Interrupt`\n",
    "\n",
    "`Kernel -> Restart`"
   ]
  },
  {
   "cell_type": "markdown",
   "metadata": {},
   "source": [
    "## simple python code in cells"
   ]
  },
  {
   "cell_type": "code",
   "execution_count": 1,
   "metadata": {
    "ExecuteTime": {
     "end_time": "2018-12-12T11:20:16.635699Z",
     "start_time": "2018-12-12T11:20:16.470086Z"
    }
   },
   "outputs": [
    {
     "data": {
      "text/plain": [
       "[0, 1, 8, 27, 64, 125, 216, 343, 512, 729]"
      ]
     },
     "execution_count": 1,
     "metadata": {},
     "output_type": "execute_result"
    }
   ],
   "source": [
    "# This is a code cell, containing python code, it is executed by <shift>-<enter> or <alt>-<enter>\n",
    "import numpy as np\n",
    "\n",
    "numbers = np.arange(10)\n",
    "\n",
    "def cubed(x):\n",
    "    \"\"\" returns value raised to the third power \"\"\"\n",
    "    return x**3\n",
    "\n",
    "[cubed(x) for x in numbers]"
   ]
  },
  {
   "cell_type": "markdown",
   "metadata": {},
   "source": [
    "## Markdown\n",
    "Markdown is a simple way of writing text with some formatting and \n",
    "\n",
    "$$( P(A \\mid B) = \\frac{P(B \\mid A) \\, P(A)}{P(B)}$$\n",
    "\n",
    "Code can also be included in the notebook with proper syntax highlighting\n",
    "\n",
    "```python\n",
    "def hello():\n",
    "    print('hello world')\n",
    "```"
   ]
  },
  {
   "cell_type": "markdown",
   "metadata": {},
   "source": [
    "## getting help\n",
    "using a `?` or `??` will show the documentation (docstring) of a function"
   ]
  },
  {
   "cell_type": "code",
   "execution_count": 2,
   "metadata": {
    "ExecuteTime": {
     "end_time": "2018-12-12T11:20:19.690127Z",
     "start_time": "2018-12-12T11:20:19.661404Z"
    }
   },
   "outputs": [],
   "source": [
    "?cubed"
   ]
  },
  {
   "cell_type": "code",
   "execution_count": 3,
   "metadata": {
    "ExecuteTime": {
     "end_time": "2018-12-12T11:20:21.231919Z",
     "start_time": "2018-12-12T11:20:21.229346Z"
    }
   },
   "outputs": [],
   "source": [
    "# ?np.random.randn"
   ]
  },
  {
   "cell_type": "markdown",
   "metadata": {},
   "source": [
    "## plotting inline"
   ]
  },
  {
   "cell_type": "code",
   "execution_count": 4,
   "metadata": {
    "ExecuteTime": {
     "end_time": "2018-12-12T11:20:22.309771Z",
     "start_time": "2018-12-12T11:20:22.093184Z"
    }
   },
   "outputs": [],
   "source": [
    "%matplotlib inline\n",
    "%config InlineBackend.print_figure_kwargs={'bbox_inches':None}  # this shows the non-cropped figure as it is saved\n",
    "import matplotlib.pyplot as plt"
   ]
  },
  {
   "cell_type": "code",
   "execution_count": 5,
   "metadata": {
    "ExecuteTime": {
     "end_time": "2018-12-12T11:20:23.151730Z",
     "start_time": "2018-12-12T11:20:23.061436Z"
    }
   },
   "outputs": [
    {
     "data": {
      "text/plain": [
       "[<matplotlib.lines.Line2D at 0x11f624da0>]"
      ]
     },
     "execution_count": 5,
     "metadata": {},
     "output_type": "execute_result"
    },
    {
     "data": {
      "image/png": "[encoded data removed]",
      "text/plain": [
       "<Figure size 432x288 with 1 Axes>"
      ]
     },
     "metadata": {
      "needs_background": "light"
     },
     "output_type": "display_data"
    }
   ],
   "source": [
    "plt.plot(numbers, cubed(numbers))"
   ]
  },
  {
   "cell_type": "markdown",
   "metadata": {},
   "source": [
    "## interacting with the commandline\n",
    "prepending a `!` will escape the python interpretor and execute the following commands in in the command line"
   ]
  },
  {
   "cell_type": "code",
   "execution_count": 6,
   "metadata": {
    "ExecuteTime": {
     "end_time": "2018-12-12T11:20:28.067714Z",
     "start_time": "2018-12-12T11:20:27.948863Z"
    }
   },
   "outputs": [
    {
     "name": "stdout",
     "output_type": "stream",
     "text": [
      "/Users/andre/git/Python-for-lunch-Notebooks/PFL2_Jupyter-notebooks\r\n"
     ]
    }
   ],
   "source": [
    "! pwd"
   ]
  },
  {
   "cell_type": "code",
   "execution_count": 7,
   "metadata": {
    "ExecuteTime": {
     "end_time": "2018-12-12T11:20:28.966959Z",
     "start_time": "2018-12-12T11:20:28.950513Z"
    }
   },
   "outputs": [
    {
     "name": "stdout",
     "output_type": "stream",
     "text": [
      "['IPython_notebook.ipynb', 'Jupyter_notebooks.ipynb', 'Operability with Fortran.ipynb', 'Untitled.ipynb']\n"
     ]
    }
   ],
   "source": [
    "notebook_list = ! ls *.ipynb\n",
    "print(notebook_list)"
   ]
  },
  {
   "cell_type": "markdown",
   "metadata": {},
   "source": [
    "## magic commands\n",
    "We have seen magic commands above, thy are prepended by `%` (line magics) or `%%` (cell magics) and add extra functionality to the notebook, like inline plotting. `lsmagic` lists all available magic comments. All magic commands work in the NotebookApp, but not all do in Jupyterlab."
   ]
  },
  {
   "cell_type": "code",
   "execution_count": 8,
   "metadata": {
    "ExecuteTime": {
     "end_time": "2018-12-12T11:20:30.236158Z",
     "start_time": "2018-12-12T11:20:30.229666Z"
    }
   },
   "outputs": [
    {
     "data": {
      "application/json": {
       "cell": {
        "!": "OSMagics",
        "HTML": "Other",
        "SVG": "Other",
        "bash": "Other",
        "capture": "ExecutionMagics",
        "debug": "ExecutionMagics",
        "file": "Other",
        "html": "DisplayMagics",
        "javascript": "DisplayMagics",
        "js": "DisplayMagics",
        "latex": "DisplayMagics",
        "markdown": "DisplayMagics",
        "perl": "Other",
        "prun": "ExecutionMagics",
        "pypy": "Other",
        "python": "Other",
        "python2": "Other",
        "python3": "Other",
        "ruby": "Other",
        "script": "ScriptMagics",
        "sh": "Other",
        "svg": "DisplayMagics",
        "sx": "OSMagics",
        "system": "OSMagics",
        "time": "ExecutionMagics",
        "timeit": "ExecutionMagics",
        "writefile": "OSMagics"
       },
       "line": {
        "alias": "OSMagics",
        "alias_magic": "BasicMagics",
        "autoawait": "AsyncMagics",
        "autocall": "AutoMagics",
        "automagic": "AutoMagics",
        "autosave": "KernelMagics",
        "bookmark": "OSMagics",
        "cat": "Other",
        "cd": "OSMagics",
        "clear": "KernelMagics",
        "colors": "BasicMagics",
        "config": "ConfigMagics",
        "connect_info": "KernelMagics",
        "cp": "Other",
        "debug": "ExecutionMagics",
        "dhist": "OSMagics",
        "dirs": "OSMagics",
        "doctest_mode": "BasicMagics",
        "ed": "Other",
        "edit": "KernelMagics",
        "env": "OSMagics",
        "gui": "BasicMagics",
        "hist": "Other",
        "history": "HistoryMagics",
        "killbgscripts": "ScriptMagics",
        "ldir": "Other",
        "less": "KernelMagics",
        "lf": "Other",
        "lk": "Other",
        "ll": "Other",
        "load": "CodeMagics",
        "load_ext": "ExtensionMagics",
        "loadpy": "CodeMagics",
        "logoff": "LoggingMagics",
        "logon": "LoggingMagics",
        "logstart": "LoggingMagics",
        "logstate": "LoggingMagics",
        "logstop": "LoggingMagics",
        "ls": "Other",
        "lsmagic": "BasicMagics",
        "lx": "Other",
        "macro": "ExecutionMagics",
        "magic": "BasicMagics",
        "man": "KernelMagics",
        "matplotlib": "PylabMagics",
        "mkdir": "Other",
        "more": "KernelMagics",
        "mv": "Other",
        "notebook": "BasicMagics",
        "page": "BasicMagics",
        "pastebin": "CodeMagics",
        "pdb": "ExecutionMagics",
        "pdef": "NamespaceMagics",
        "pdoc": "NamespaceMagics",
        "pfile": "NamespaceMagics",
        "pinfo": "NamespaceMagics",
        "pinfo2": "NamespaceMagics",
        "pip": "BasicMagics",
        "popd": "OSMagics",
        "pprint": "BasicMagics",
        "precision": "BasicMagics",
        "prun": "ExecutionMagics",
        "psearch": "NamespaceMagics",
        "psource": "NamespaceMagics",
        "pushd": "OSMagics",
        "pwd": "OSMagics",
        "pycat": "OSMagics",
        "pylab": "PylabMagics",
        "qtconsole": "KernelMagics",
        "quickref": "BasicMagics",
        "recall": "HistoryMagics",
        "rehashx": "OSMagics",
        "reload_ext": "ExtensionMagics",
        "rep": "Other",
        "rerun": "HistoryMagics",
        "reset": "NamespaceMagics",
        "reset_selective": "NamespaceMagics",
        "rm": "Other",
        "rmdir": "Other",
        "run": "ExecutionMagics",
        "save": "CodeMagics",
        "sc": "OSMagics",
        "set_env": "OSMagics",
        "store": "StoreMagics",
        "sx": "OSMagics",
        "system": "OSMagics",
        "tb": "ExecutionMagics",
        "time": "ExecutionMagics",
        "timeit": "ExecutionMagics",
        "unalias": "OSMagics",
        "unload_ext": "ExtensionMagics",
        "who": "NamespaceMagics",
        "who_ls": "NamespaceMagics",
        "whos": "NamespaceMagics",
        "xdel": "NamespaceMagics",
        "xmode": "BasicMagics"
       }
      },
      "text/plain": [
       "Available line magics:\n",
       "%alias  %alias_magic  %autoawait  %autocall  %automagic  %autosave  %bookmark  %cat  %cd  %clear  %colors  %config  %connect_info  %cp  %debug  %dhist  %dirs  %doctest_mode  %ed  %edit  %env  %gui  %hist  %history  %killbgscripts  %ldir  %less  %lf  %lk  %ll  %load  %load_ext  %loadpy  %logoff  %logon  %logstart  %logstate  %logstop  %ls  %lsmagic  %lx  %macro  %magic  %man  %matplotlib  %mkdir  %more  %mv  %notebook  %page  %pastebin  %pdb  %pdef  %pdoc  %pfile  %pinfo  %pinfo2  %popd  %pprint  %precision  %prun  %psearch  %psource  %pushd  %pwd  %pycat  %pylab  %qtconsole  %quickref  %recall  %rehashx  %reload_ext  %rep  %rerun  %reset  %reset_selective  %rm  %rmdir  %run  %save  %sc  %set_env  %store  %sx  %system  %tb  %time  %timeit  %unalias  %unload_ext  %who  %who_ls  %whos  %xdel  %xmode\n",
       "\n",
       "Available cell magics:\n",
       "%%!  %%HTML  %%SVG  %%bash  %%capture  %%debug  %%file  %%html  %%javascript  %%js  %%latex  %%markdown  %%perl  %%prun  %%pypy  %%python  %%python2  %%python3  %%ruby  %%script  %%sh  %%svg  %%sx  %%system  %%time  %%timeit  %%writefile\n",
       "\n",
       "Automagic is ON, % prefix IS NOT needed for line magics."
      ]
     },
     "execution_count": 8,
     "metadata": {},
     "output_type": "execute_result"
    }
   ],
   "source": [
    "%lsmagic"
   ]
  },
  {
   "cell_type": "markdown",
   "metadata": {},
   "source": [
    "Some very useful magic commands\n",
    "- `%whos` lists all the variables in the name space\n",
    "- `%timeit`/`%%time` times the execution of a cell, good to compare different implementations\n",
    "-  `%load_ext autoreload` checks if any packages have changed since they were used last and reloads them, this is handy if you are editing functions in `.py` files that you are loading\n",
    "- `%%fortran`  (after loading it once with `%load_ext fortranmagic`) lets you write functions in another language and use them (see the [Operability with Fortran](https://github.com/UU-IMAU/Python-for-lunch-Notebooks/blob/master/PFL2_Jupyter-notebooks/Operability%20with%20Fortran.ipynb) notebook\n",
    "- `%load` loads a function from a `.py` file (which can also be online)\n",
    "- `%run` followed by a `.py` or `.ipynb` file executes said file\n",
    "- `%%writefile` saves the contents of that cell to an external file"
   ]
  },
  {
   "cell_type": "code",
   "execution_count": 9,
   "metadata": {
    "ExecuteTime": {
     "end_time": "2018-12-12T11:20:31.655562Z",
     "start_time": "2018-12-12T11:20:31.652822Z"
    }
   },
   "outputs": [],
   "source": [
    "# %load http://matplotlib.org/mpl_examples/images_contours_and_fields/streamplot_demo_features.py"
   ]
  },
  {
   "cell_type": "markdown",
   "metadata": {},
   "source": [
    "## additonal notebook python package\n",
    "The [nbextensions](https://github.com/ipython-contrib/jupyter_contrib_nbextensions) package adds a lot of functionality to the NotebookApp, for example showing the execution time of a cell by default or a spellchecker."
   ]
  }
 ],
 "metadata": {
  "kernelspec": {
   "display_name": "Python 3",
   "language": "python",
   "name": "python3"
  },
  "language_info": {
   "codemirror_mode": {
    "name": "ipython",
    "version": 3
   },
   "file_extension": ".py",
   "mimetype": "text/x-python",
   "name": "python",
   "nbconvert_exporter": "python",
   "pygments_lexer": "ipython3",
   "version": "3.7.1"
  }
 },
 "nbformat": 4,
 "nbformat_minor": 2
}
