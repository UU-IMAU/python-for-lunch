{
 "cells": [
  {
   "cell_type": "markdown",
   "metadata": {},
   "source": [
    "## Python-for-Lunch on defensive programming"
   ]
  },
  {
   "cell_type": "markdown",
   "metadata": {},
   "source": [
    "In this tutorial, we will be introducting the concept of **Defensive Programming**, the main idea of which is to constantly check if your code is doing what you expect it to do. The most important concept is that of **unit tests**, which are small, often almost trivial, tests (using `assert` statements in python) that catch anything unexpected.\n",
    "\n",
    "In our [Parcels framework](https://github.com/OceanParcels/parcels) we have hundreds of these unit tests, and this makes development much easier. When we add functionality, we can assume we haven't broken Parcels somewhere else if all the unit tests still work (assuming that our unit tests cover _all_ existing functionality, which of course is a big assumption).\n",
    "\n",
    "Here, we will use create some simple functions to show how to use `assert` statements for unit testing, and also introduce the concept of **Test driven development**."
   ]
  },
  {
   "cell_type": "code",
   "execution_count": null,
   "metadata": {},
   "outputs": [],
   "source": [
    "import numpy as np"
   ]
  },
  {
   "cell_type": "markdown",
   "metadata": {},
   "source": [
    "The following function calculates the Coriolis parameter as a function of latitude"
   ]
  },
  {
   "cell_type": "code",
   "execution_count": null,
   "metadata": {},
   "outputs": [],
   "source": [
    "def calculate_coriolis(lat):\n",
    "    omega = 2*np.pi/86400.\n",
    "    return 2*omega*np.sin(lat/180.*np.pi)\n",
    "\n",
    "calculate_coriolis(45)"
   ]
  },
  {
   "cell_type": "markdown",
   "metadata": {},
   "source": [
    "However, the Coriolis parameter is only defined for latitudes between 90S and 90N. Our function, however, happily calculates the Coriolis parameter for clearly non-sensical latitudes"
   ]
  },
  {
   "cell_type": "code",
   "execution_count": null,
   "metadata": {},
   "outputs": [],
   "source": [
    "calculate_coriolis(128480)"
   ]
  },
  {
   "cell_type": "markdown",
   "metadata": {},
   "source": [
    "The solution is to check (using the `assert` command) whether the input is between 90S and 90N, and throw an error if that is not the case"
   ]
  },
  {
   "cell_type": "code",
   "execution_count": null,
   "metadata": {},
   "outputs": [],
   "source": [
    "def calculate_coriolis(lat):\n",
    "    assert -90 < lat < 90, 'lat should be between -90 and 90'\n",
    "    omega = 2*np.pi/86400.\n",
    "    return 2*omega*np.sin(lat/180.*np.pi)\n",
    "\n",
    "calculate_coriolis(180)"
   ]
  },
  {
   "cell_type": "markdown",
   "metadata": {},
   "source": [
    "### Test-Driven Development"
   ]
  },
  {
   "cell_type": "markdown",
   "metadata": {},
   "source": [
    "This next section is a shortened version of the excellent tutorial on [Defensive programming](https://swc-osg-workshop.github.io/2017-05-17-JLAB/novice/python/05-defensive.html) at Software Carpentry.\n",
    "\n",
    "Let's assume we want to write a function that calculates the overlap in two or more timeseries, like in the figure below\n",
    "![overlapping_ranges](https://swc-osg-workshop.github.io/2017-05-17-JLAB/novice/python/img/python-overlapping-ranges.svg)\n",
    "(Figure from https://swc-osg-workshop.github.io/2017-05-17-JLAB/novice/python/05-defensive.html)\n",
    "\n",
    "The idea of Test Driven Development is that we will now write the test cases _before_ we write the actual function. \n",
    "\n",
    "So for example"
   ]
  },
  {
   "cell_type": "code",
   "execution_count": null,
   "metadata": {},
   "outputs": [],
   "source": [
    "def test_range_overlap():\n",
    "    assert range_overlap([(-3, 5), (0, 4.5), (-1.5, 2)]) == (0, 2)\n",
    "    assert range_overlap([(0.0, 1.0)]) == (0.0, 1.0)\n",
    "    assert range_overlap([(2.0, 3.0), (2.0, 4.0)]) == (2.0, 3.0)\n",
    "    assert range_overlap([(-200, -150), (-170, -165)]) == (-170, -165)\n",
    "    assert range_overlap([(0.0, 1.0), (0.0, 2.0), (-1.0, 1.0)]) == (0.0, 1.0)\n",
    "    assert range_overlap([(0.0, 1.0), (2.0, 4.0)]) is None\n",
    "    assert range_overlap([(0.0, 1.0), (1.0, 2.0)]) == (1.0, 1.0)  # Note could also have chosen None here\n",
    "    print('All unit tests passed')"
   ]
  },
  {
   "cell_type": "markdown",
   "metadata": {},
   "source": [
    "Of course, since we haven't written the function `range_overlap` yet, it makes little sense to call this `test_range_overlap()` function. But it did force us to think about exceptions like what happens if there is no overlap.\n",
    "\n",
    "This is Test Driven Development. Much more information, including motivation why it's a better way of development, can be found at [the Software Carpentry lesson on Defensive programming](https://swc-osg-workshop.github.io/2017-05-17-JLAB/novice/python/05-defensive.html).\n",
    "\n",
    "***Exercise: write the function `range_overlap()` that passes all unit tests of the `test_range_overlap()` function above***"
   ]
  },
  {
   "cell_type": "code",
   "execution_count": null,
   "metadata": {
    "tags": [
     "ANSWER"
    ]
   },
   "outputs": [],
   "source": [
    "# Answer\n",
    "def range_overlap(ranges):\n",
    "    '''Return common overlap among a set of [low, high] ranges.'''\n",
    "    lowest = -np.inf\n",
    "    highest = np.inf\n",
    "    for (low, high) in ranges:\n",
    "        if high < lowest or low > highest:\n",
    "            return None\n",
    "        lowest = max(lowest, low)\n",
    "        highest = min(highest, high)\n",
    "    return (lowest, highest)\n",
    "\n",
    "test_range_overlap()"
   ]
  },
  {
   "cell_type": "markdown",
   "metadata": {},
   "source": [
    "One thing that can still go wrong in this function is if the `low > high` within a tuple `(low, high`). So we will need to check for that too. In the `test_range_overlap()` function we can add another `assert`, but now one that throws an error."
   ]
  },
  {
   "cell_type": "code",
   "execution_count": null,
   "metadata": {},
   "outputs": [],
   "source": [
    "def test_range_overlap():\n",
    "    assert range_overlap([(-3, 5), (0, 4.5), (-1.5, 2)]) == (0, 2)\n",
    "    assert range_overlap([(0.0, 1.0)]) == (0.0, 1.0)\n",
    "    assert range_overlap([(2.0, 3.0), (2.0, 4.0)]) == (2.0, 3.0)\n",
    "    assert range_overlap([(-200, -150), (-170, -165)]) == (-170, -165)\n",
    "    assert range_overlap([(0.0, 1.0), (0.0, 2.0), (-1.0, 1.0)]) == (0.0, 1.0)\n",
    "    assert range_overlap([(0.0, 1.0), (2.0, 4.0)]) is None\n",
    "    assert range_overlap([(0.0, 1.0), (1.0, 2.0)]) == (1.0, 1.0)  # Note could also have chosen None here\n",
    "    try:\n",
    "        range_overlap([(4, 3), (3, 4)])\n",
    "        assert False\n",
    "    except ValueError:\n",
    "        pass\n",
    "    print('All unit tests passed')"
   ]
  },
  {
   "cell_type": "markdown",
   "metadata": {},
   "source": [
    "***Exercise: Add a `raise ValueError()` to your `range_overlap` function***"
   ]
  },
  {
   "cell_type": "code",
   "execution_count": null,
   "metadata": {
    "tags": [
     "ANSWER"
    ]
   },
   "outputs": [],
   "source": [
    "# Answer\n",
    "\n",
    "def range_overlap(ranges):\n",
    "    '''Return common overlap among a set of [low, high] ranges.'''\n",
    "    lowest = -np.inf\n",
    "    highest = np.inf\n",
    "    for (low, high) in ranges:\n",
    "        if high < low:\n",
    "            raise ValueError('high < low for at least one of the input tuples') \n",
    "        if high < lowest or low > highest:\n",
    "            return None\n",
    "        lowest = max(lowest, low)\n",
    "        highest = min(highest, high)\n",
    "    return (lowest, highest)\n",
    "\n",
    "test_range_overlap()"
   ]
  },
  {
   "cell_type": "markdown",
   "metadata": {},
   "source": [
    "### Code developing according to XKCD\n",
    "\n",
    "(because no coding lesson is complete without an XKCD commic to wrap it up)"
   ]
  },
  {
   "cell_type": "markdown",
   "metadata": {},
   "source": [
    "![](https://imgs.xkcd.com/comics/the_general_problem.png)\n",
    "https://xkcd.com/974/"
   ]
  },
  {
   "cell_type": "markdown",
   "metadata": {},
   "source": [
    "![](https://imgs.xkcd.com/comics/good_code.png)\n",
    "https://xkcd.com/844/"
   ]
  },
  {
   "cell_type": "markdown",
   "metadata": {},
   "source": [
    "![](https://imgs.xkcd.com/comics/automation.png)\n",
    "https://xkcd.com/1319/"
   ]
  }
 ],
 "metadata": {
  "kernelspec": {
   "display_name": "Python 3",
   "language": "python",
   "name": "python3"
  },
  "language_info": {
   "codemirror_mode": {
    "name": "ipython",
    "version": 3
   },
   "file_extension": ".py",
   "mimetype": "text/x-python",
   "name": "python",
   "nbconvert_exporter": "python",
   "pygments_lexer": "ipython3",
   "version": "3.6.8"
  }
 },
 "nbformat": 4,
 "nbformat_minor": 2
}
